{
 "cells": [
  {
   "cell_type": "markdown",
   "id": "6c797bd6",
   "metadata": {
    "papermill": {
     "duration": 0.014595,
     "end_time": "2025-08-05T17:57:35.253948",
     "exception": false,
     "start_time": "2025-08-05T17:57:35.239353",
     "status": "completed"
    },
    "tags": []
   },
   "source": [
    "# 1. Importing Libraries"
   ]
  },
  {
   "cell_type": "code",
   "execution_count": 1,
   "id": "8ce51034",
   "metadata": {
    "_cell_guid": "b1076dfc-b9ad-4769-8c92-a6c4dae69d19",
    "_uuid": "8f2839f25d086af736a60e9eeb907d3b93b6e0e5",
    "execution": {
     "iopub.execute_input": "2025-08-05T17:57:35.277306Z",
     "iopub.status.busy": "2025-08-05T17:57:35.276953Z",
     "iopub.status.idle": "2025-08-05T17:57:39.822894Z",
     "shell.execute_reply": "2025-08-05T17:57:39.822162Z"
    },
    "papermill": {
     "duration": 4.558729,
     "end_time": "2025-08-05T17:57:39.824444",
     "exception": false,
     "start_time": "2025-08-05T17:57:35.265715",
     "status": "completed"
    },
    "tags": []
   },
   "outputs": [],
   "source": [
    "import pandas as pd\n",
    "\n",
    "import matplotlib.pyplot as plt\n",
    "import seaborn as sns\n",
    "\n",
    "import warnings\n",
    "warnings.simplefilter(action='ignore')\n",
    "\n",
    "from sklearn.dummy import DummyRegressor\n",
    "\n",
    "from sklearn.model_selection import train_test_split\n",
    "from sklearn.pipeline import Pipeline\n",
    "from sklearn.impute import SimpleImputer\n",
    "from sklearn.compose import ColumnTransformer\n",
    "\n",
    "from sklearn.model_selection import GridSearchCV, RandomizedSearchCV\n",
    "\n",
    "from sklearn.linear_model import LinearRegression\n",
    "from sklearn.ensemble import RandomForestRegressor, GradientBoostingRegressor\n",
    "\n",
    "from xgboost import XGBRegressor\n",
    "\n",
    "from sklearn.metrics import r2_score, mean_absolute_error, mean_squared_error"
   ]
  },
  {
   "cell_type": "markdown",
   "id": "affc6976",
   "metadata": {
    "papermill": {
     "duration": 0.010668,
     "end_time": "2025-08-05T17:57:39.846113",
     "exception": false,
     "start_time": "2025-08-05T17:57:39.835445",
     "status": "completed"
    },
    "tags": []
   },
   "source": [
    "# 2. Data Loading"
   ]
  },
  {
   "cell_type": "code",
   "execution_count": 2,
   "id": "278d6506",
   "metadata": {
    "execution": {
     "iopub.execute_input": "2025-08-05T17:57:39.868139Z",
     "iopub.status.busy": "2025-08-05T17:57:39.867685Z",
     "iopub.status.idle": "2025-08-05T17:57:43.615482Z",
     "shell.execute_reply": "2025-08-05T17:57:43.612390Z"
    },
    "papermill": {
     "duration": 3.763982,
     "end_time": "2025-08-05T17:57:43.620363",
     "exception": false,
     "start_time": "2025-08-05T17:57:39.856381",
     "status": "completed"
    },
    "tags": []
   },
   "outputs": [],
   "source": [
    "train_data=pd.read_csv('/kaggle/input/engage-2-value-from-clicks-to-conversions/train_data.csv')\n",
    "Final_test=pd.read_csv('/kaggle/input/engage-2-value-from-clicks-to-conversions/test_data.csv')"
   ]
  },
  {
   "cell_type": "code",
   "execution_count": 3,
   "id": "f916633a",
   "metadata": {
    "execution": {
     "iopub.execute_input": "2025-08-05T17:57:43.642961Z",
     "iopub.status.busy": "2025-08-05T17:57:43.642675Z",
     "iopub.status.idle": "2025-08-05T17:57:43.703146Z",
     "shell.execute_reply": "2025-08-05T17:57:43.702161Z"
    },
    "papermill": {
     "duration": 0.073241,
     "end_time": "2025-08-05T17:57:43.704770",
     "exception": false,
     "start_time": "2025-08-05T17:57:43.631529",
     "status": "completed"
    },
    "tags": []
   },
   "outputs": [],
   "source": [
    "X = train_data.drop(columns='purchaseValue')\n",
    "y = train_data['purchaseValue']"
   ]
  },
  {
   "cell_type": "markdown",
   "id": "0453b61a",
   "metadata": {
    "papermill": {
     "duration": 0.010901,
     "end_time": "2025-08-05T17:57:43.726475",
     "exception": false,
     "start_time": "2025-08-05T17:57:43.715574",
     "status": "completed"
    },
    "tags": []
   },
   "source": [
    "# 3. Data Information"
   ]
  },
  {
   "cell_type": "code",
   "execution_count": 4,
   "id": "0bf74a15",
   "metadata": {
    "execution": {
     "iopub.execute_input": "2025-08-05T17:57:43.755509Z",
     "iopub.status.busy": "2025-08-05T17:57:43.755189Z",
     "iopub.status.idle": "2025-08-05T17:57:43.786728Z",
     "shell.execute_reply": "2025-08-05T17:57:43.785749Z"
    },
    "papermill": {
     "duration": 0.047179,
     "end_time": "2025-08-05T17:57:43.788261",
     "exception": false,
     "start_time": "2025-08-05T17:57:43.741082",
     "status": "completed"
    },
    "tags": []
   },
   "outputs": [
    {
     "data": {
      "text/html": [
       "<div>\n",
       "<style scoped>\n",
       "    .dataframe tbody tr th:only-of-type {\n",
       "        vertical-align: middle;\n",
       "    }\n",
       "\n",
       "    .dataframe tbody tr th {\n",
       "        vertical-align: top;\n",
       "    }\n",
       "\n",
       "    .dataframe thead th {\n",
       "        text-align: right;\n",
       "    }\n",
       "</style>\n",
       "<table border=\"1\" class=\"dataframe\">\n",
       "  <thead>\n",
       "    <tr style=\"text-align: right;\">\n",
       "      <th></th>\n",
       "      <th>trafficSource.isTrueDirect</th>\n",
       "      <th>purchaseValue</th>\n",
       "      <th>browser</th>\n",
       "      <th>device.screenResolution</th>\n",
       "      <th>trafficSource.adContent</th>\n",
       "      <th>trafficSource.keyword</th>\n",
       "      <th>screenSize</th>\n",
       "      <th>geoCluster</th>\n",
       "      <th>trafficSource.adwordsClickInfo.slot</th>\n",
       "      <th>device.mobileDeviceBranding</th>\n",
       "      <th>...</th>\n",
       "      <th>device.language</th>\n",
       "      <th>deviceType</th>\n",
       "      <th>userChannel</th>\n",
       "      <th>device.browserVersion</th>\n",
       "      <th>totalHits</th>\n",
       "      <th>device.screenColors</th>\n",
       "      <th>sessionStart</th>\n",
       "      <th>geoNetwork.continent</th>\n",
       "      <th>device.isMobile</th>\n",
       "      <th>new_visits</th>\n",
       "    </tr>\n",
       "  </thead>\n",
       "  <tbody>\n",
       "    <tr>\n",
       "      <th>0</th>\n",
       "      <td>NaN</td>\n",
       "      <td>0.0</td>\n",
       "      <td>Edge</td>\n",
       "      <td>not available in demo dataset</td>\n",
       "      <td>NaN</td>\n",
       "      <td>NaN</td>\n",
       "      <td>medium</td>\n",
       "      <td>Region_2</td>\n",
       "      <td>NaN</td>\n",
       "      <td>not available in demo dataset</td>\n",
       "      <td>...</td>\n",
       "      <td>not available in demo dataset</td>\n",
       "      <td>desktop</td>\n",
       "      <td>Social</td>\n",
       "      <td>not available in demo dataset</td>\n",
       "      <td>1</td>\n",
       "      <td>not available in demo dataset</td>\n",
       "      <td>1500100799</td>\n",
       "      <td>Americas</td>\n",
       "      <td>False</td>\n",
       "      <td>1.0</td>\n",
       "    </tr>\n",
       "    <tr>\n",
       "      <th>1</th>\n",
       "      <td>True</td>\n",
       "      <td>0.0</td>\n",
       "      <td>Chrome</td>\n",
       "      <td>not available in demo dataset</td>\n",
       "      <td>NaN</td>\n",
       "      <td>NaN</td>\n",
       "      <td>medium</td>\n",
       "      <td>Region_3</td>\n",
       "      <td>NaN</td>\n",
       "      <td>not available in demo dataset</td>\n",
       "      <td>...</td>\n",
       "      <td>not available in demo dataset</td>\n",
       "      <td>desktop</td>\n",
       "      <td>Direct</td>\n",
       "      <td>not available in demo dataset</td>\n",
       "      <td>1</td>\n",
       "      <td>not available in demo dataset</td>\n",
       "      <td>1495262065</td>\n",
       "      <td>Americas</td>\n",
       "      <td>False</td>\n",
       "      <td>1.0</td>\n",
       "    </tr>\n",
       "    <tr>\n",
       "      <th>2</th>\n",
       "      <td>True</td>\n",
       "      <td>0.0</td>\n",
       "      <td>Chrome</td>\n",
       "      <td>not available in demo dataset</td>\n",
       "      <td>NaN</td>\n",
       "      <td>(not provided)</td>\n",
       "      <td>medium</td>\n",
       "      <td>Region_2</td>\n",
       "      <td>NaN</td>\n",
       "      <td>not available in demo dataset</td>\n",
       "      <td>...</td>\n",
       "      <td>not available in demo dataset</td>\n",
       "      <td>desktop</td>\n",
       "      <td>Organic Search</td>\n",
       "      <td>not available in demo dataset</td>\n",
       "      <td>6</td>\n",
       "      <td>not available in demo dataset</td>\n",
       "      <td>1508510328</td>\n",
       "      <td>Europe</td>\n",
       "      <td>False</td>\n",
       "      <td>NaN</td>\n",
       "    </tr>\n",
       "    <tr>\n",
       "      <th>3</th>\n",
       "      <td>NaN</td>\n",
       "      <td>0.0</td>\n",
       "      <td>Internet Explorer</td>\n",
       "      <td>not available in demo dataset</td>\n",
       "      <td>NaN</td>\n",
       "      <td>NaN</td>\n",
       "      <td>medium</td>\n",
       "      <td>Region_4</td>\n",
       "      <td>NaN</td>\n",
       "      <td>not available in demo dataset</td>\n",
       "      <td>...</td>\n",
       "      <td>not available in demo dataset</td>\n",
       "      <td>desktop</td>\n",
       "      <td>Social</td>\n",
       "      <td>not available in demo dataset</td>\n",
       "      <td>1</td>\n",
       "      <td>not available in demo dataset</td>\n",
       "      <td>1483431838</td>\n",
       "      <td>Asia</td>\n",
       "      <td>False</td>\n",
       "      <td>1.0</td>\n",
       "    </tr>\n",
       "    <tr>\n",
       "      <th>4</th>\n",
       "      <td>True</td>\n",
       "      <td>88950000.0</td>\n",
       "      <td>Chrome</td>\n",
       "      <td>not available in demo dataset</td>\n",
       "      <td>NaN</td>\n",
       "      <td>NaN</td>\n",
       "      <td>medium</td>\n",
       "      <td>Region_3</td>\n",
       "      <td>NaN</td>\n",
       "      <td>not available in demo dataset</td>\n",
       "      <td>...</td>\n",
       "      <td>not available in demo dataset</td>\n",
       "      <td>desktop</td>\n",
       "      <td>Direct</td>\n",
       "      <td>not available in demo dataset</td>\n",
       "      <td>66</td>\n",
       "      <td>not available in demo dataset</td>\n",
       "      <td>1475804633</td>\n",
       "      <td>Americas</td>\n",
       "      <td>False</td>\n",
       "      <td>1.0</td>\n",
       "    </tr>\n",
       "  </tbody>\n",
       "</table>\n",
       "<p>5 rows × 52 columns</p>\n",
       "</div>"
      ],
      "text/plain": [
       "  trafficSource.isTrueDirect  purchaseValue            browser  \\\n",
       "0                        NaN            0.0               Edge   \n",
       "1                       True            0.0             Chrome   \n",
       "2                       True            0.0             Chrome   \n",
       "3                        NaN            0.0  Internet Explorer   \n",
       "4                       True     88950000.0             Chrome   \n",
       "\n",
       "         device.screenResolution trafficSource.adContent  \\\n",
       "0  not available in demo dataset                     NaN   \n",
       "1  not available in demo dataset                     NaN   \n",
       "2  not available in demo dataset                     NaN   \n",
       "3  not available in demo dataset                     NaN   \n",
       "4  not available in demo dataset                     NaN   \n",
       "\n",
       "  trafficSource.keyword screenSize geoCluster  \\\n",
       "0                   NaN     medium   Region_2   \n",
       "1                   NaN     medium   Region_3   \n",
       "2        (not provided)     medium   Region_2   \n",
       "3                   NaN     medium   Region_4   \n",
       "4                   NaN     medium   Region_3   \n",
       "\n",
       "  trafficSource.adwordsClickInfo.slot    device.mobileDeviceBranding  ...  \\\n",
       "0                                 NaN  not available in demo dataset  ...   \n",
       "1                                 NaN  not available in demo dataset  ...   \n",
       "2                                 NaN  not available in demo dataset  ...   \n",
       "3                                 NaN  not available in demo dataset  ...   \n",
       "4                                 NaN  not available in demo dataset  ...   \n",
       "\n",
       "                 device.language  deviceType     userChannel  \\\n",
       "0  not available in demo dataset     desktop          Social   \n",
       "1  not available in demo dataset     desktop          Direct   \n",
       "2  not available in demo dataset     desktop  Organic Search   \n",
       "3  not available in demo dataset     desktop          Social   \n",
       "4  not available in demo dataset     desktop          Direct   \n",
       "\n",
       "           device.browserVersion totalHits            device.screenColors  \\\n",
       "0  not available in demo dataset         1  not available in demo dataset   \n",
       "1  not available in demo dataset         1  not available in demo dataset   \n",
       "2  not available in demo dataset         6  not available in demo dataset   \n",
       "3  not available in demo dataset         1  not available in demo dataset   \n",
       "4  not available in demo dataset        66  not available in demo dataset   \n",
       "\n",
       "  sessionStart  geoNetwork.continent device.isMobile new_visits  \n",
       "0   1500100799              Americas           False        1.0  \n",
       "1   1495262065              Americas           False        1.0  \n",
       "2   1508510328                Europe           False        NaN  \n",
       "3   1483431838                  Asia           False        1.0  \n",
       "4   1475804633              Americas           False        1.0  \n",
       "\n",
       "[5 rows x 52 columns]"
      ]
     },
     "execution_count": 4,
     "metadata": {},
     "output_type": "execute_result"
    }
   ],
   "source": [
    "train_data.head()"
   ]
  },
  {
   "cell_type": "code",
   "execution_count": 5,
   "id": "a16a4e60",
   "metadata": {
    "execution": {
     "iopub.execute_input": "2025-08-05T17:57:43.811414Z",
     "iopub.status.busy": "2025-08-05T17:57:43.810485Z",
     "iopub.status.idle": "2025-08-05T17:57:43.832577Z",
     "shell.execute_reply": "2025-08-05T17:57:43.831715Z"
    },
    "papermill": {
     "duration": 0.035064,
     "end_time": "2025-08-05T17:57:43.834131",
     "exception": false,
     "start_time": "2025-08-05T17:57:43.799067",
     "status": "completed"
    },
    "tags": []
   },
   "outputs": [
    {
     "data": {
      "text/html": [
       "<div>\n",
       "<style scoped>\n",
       "    .dataframe tbody tr th:only-of-type {\n",
       "        vertical-align: middle;\n",
       "    }\n",
       "\n",
       "    .dataframe tbody tr th {\n",
       "        vertical-align: top;\n",
       "    }\n",
       "\n",
       "    .dataframe thead th {\n",
       "        text-align: right;\n",
       "    }\n",
       "</style>\n",
       "<table border=\"1\" class=\"dataframe\">\n",
       "  <thead>\n",
       "    <tr style=\"text-align: right;\">\n",
       "      <th></th>\n",
       "      <th>userChannel</th>\n",
       "      <th>date</th>\n",
       "      <th>browser</th>\n",
       "      <th>device.browserSize</th>\n",
       "      <th>device.browserVersion</th>\n",
       "      <th>deviceType</th>\n",
       "      <th>device.flashVersion</th>\n",
       "      <th>device.isMobile</th>\n",
       "      <th>device.language</th>\n",
       "      <th>device.mobileDeviceBranding</th>\n",
       "      <th>...</th>\n",
       "      <th>trafficSource</th>\n",
       "      <th>sessionId</th>\n",
       "      <th>sessionNumber</th>\n",
       "      <th>sessionStart</th>\n",
       "      <th>userId</th>\n",
       "      <th>locationZone</th>\n",
       "      <th>geoCluster</th>\n",
       "      <th>browserMajor</th>\n",
       "      <th>screenSize</th>\n",
       "      <th>gclIdPresent</th>\n",
       "    </tr>\n",
       "  </thead>\n",
       "  <tbody>\n",
       "    <tr>\n",
       "      <th>0</th>\n",
       "      <td>Social</td>\n",
       "      <td>20170508</td>\n",
       "      <td>Chrome</td>\n",
       "      <td>not available in demo dataset</td>\n",
       "      <td>not available in demo dataset</td>\n",
       "      <td>desktop</td>\n",
       "      <td>not available in demo dataset</td>\n",
       "      <td>False</td>\n",
       "      <td>not available in demo dataset</td>\n",
       "      <td>not available in demo dataset</td>\n",
       "      <td>...</td>\n",
       "      <td>groups.google.com</td>\n",
       "      <td>1494262567</td>\n",
       "      <td>2</td>\n",
       "      <td>1494262567</td>\n",
       "      <td>59555</td>\n",
       "      <td>8</td>\n",
       "      <td>Region_2</td>\n",
       "      <td>not available in demo dataset</td>\n",
       "      <td>medium</td>\n",
       "      <td>0</td>\n",
       "    </tr>\n",
       "    <tr>\n",
       "      <th>1</th>\n",
       "      <td>Organic Search</td>\n",
       "      <td>20170405</td>\n",
       "      <td>Chrome</td>\n",
       "      <td>not available in demo dataset</td>\n",
       "      <td>not available in demo dataset</td>\n",
       "      <td>desktop</td>\n",
       "      <td>not available in demo dataset</td>\n",
       "      <td>False</td>\n",
       "      <td>not available in demo dataset</td>\n",
       "      <td>not available in demo dataset</td>\n",
       "      <td>...</td>\n",
       "      <td>google</td>\n",
       "      <td>1491433811</td>\n",
       "      <td>1</td>\n",
       "      <td>1491433811</td>\n",
       "      <td>6394</td>\n",
       "      <td>8</td>\n",
       "      <td>Region_1</td>\n",
       "      <td>not available in demo dataset</td>\n",
       "      <td>medium</td>\n",
       "      <td>0</td>\n",
       "    </tr>\n",
       "    <tr>\n",
       "      <th>2</th>\n",
       "      <td>Organic Search</td>\n",
       "      <td>20170308</td>\n",
       "      <td>Safari</td>\n",
       "      <td>not available in demo dataset</td>\n",
       "      <td>not available in demo dataset</td>\n",
       "      <td>desktop</td>\n",
       "      <td>not available in demo dataset</td>\n",
       "      <td>False</td>\n",
       "      <td>not available in demo dataset</td>\n",
       "      <td>not available in demo dataset</td>\n",
       "      <td>...</td>\n",
       "      <td>google</td>\n",
       "      <td>1489001815</td>\n",
       "      <td>1</td>\n",
       "      <td>1489001815</td>\n",
       "      <td>38969</td>\n",
       "      <td>8</td>\n",
       "      <td>Region_5</td>\n",
       "      <td>not available in demo dataset</td>\n",
       "      <td>medium</td>\n",
       "      <td>0</td>\n",
       "    </tr>\n",
       "    <tr>\n",
       "      <th>3</th>\n",
       "      <td>Referral</td>\n",
       "      <td>20171113</td>\n",
       "      <td>Chrome</td>\n",
       "      <td>not available in demo dataset</td>\n",
       "      <td>not available in demo dataset</td>\n",
       "      <td>desktop</td>\n",
       "      <td>not available in demo dataset</td>\n",
       "      <td>False</td>\n",
       "      <td>not available in demo dataset</td>\n",
       "      <td>not available in demo dataset</td>\n",
       "      <td>...</td>\n",
       "      <td>docs.google.com</td>\n",
       "      <td>1510593024</td>\n",
       "      <td>30</td>\n",
       "      <td>1510593024</td>\n",
       "      <td>120027</td>\n",
       "      <td>8</td>\n",
       "      <td>Region_2</td>\n",
       "      <td>not available in demo dataset</td>\n",
       "      <td>medium</td>\n",
       "      <td>0</td>\n",
       "    </tr>\n",
       "    <tr>\n",
       "      <th>4</th>\n",
       "      <td>Organic Search</td>\n",
       "      <td>20161212</td>\n",
       "      <td>Chrome</td>\n",
       "      <td>not available in demo dataset</td>\n",
       "      <td>not available in demo dataset</td>\n",
       "      <td>desktop</td>\n",
       "      <td>not available in demo dataset</td>\n",
       "      <td>False</td>\n",
       "      <td>not available in demo dataset</td>\n",
       "      <td>not available in demo dataset</td>\n",
       "      <td>...</td>\n",
       "      <td>(direct)</td>\n",
       "      <td>1481559809</td>\n",
       "      <td>1</td>\n",
       "      <td>1481559809</td>\n",
       "      <td>69453</td>\n",
       "      <td>8</td>\n",
       "      <td>Region_3</td>\n",
       "      <td>not available in demo dataset</td>\n",
       "      <td>medium</td>\n",
       "      <td>0</td>\n",
       "    </tr>\n",
       "  </tbody>\n",
       "</table>\n",
       "<p>5 rows × 51 columns</p>\n",
       "</div>"
      ],
      "text/plain": [
       "      userChannel      date browser             device.browserSize  \\\n",
       "0          Social  20170508  Chrome  not available in demo dataset   \n",
       "1  Organic Search  20170405  Chrome  not available in demo dataset   \n",
       "2  Organic Search  20170308  Safari  not available in demo dataset   \n",
       "3        Referral  20171113  Chrome  not available in demo dataset   \n",
       "4  Organic Search  20161212  Chrome  not available in demo dataset   \n",
       "\n",
       "           device.browserVersion deviceType            device.flashVersion  \\\n",
       "0  not available in demo dataset    desktop  not available in demo dataset   \n",
       "1  not available in demo dataset    desktop  not available in demo dataset   \n",
       "2  not available in demo dataset    desktop  not available in demo dataset   \n",
       "3  not available in demo dataset    desktop  not available in demo dataset   \n",
       "4  not available in demo dataset    desktop  not available in demo dataset   \n",
       "\n",
       "   device.isMobile                device.language  \\\n",
       "0            False  not available in demo dataset   \n",
       "1            False  not available in demo dataset   \n",
       "2            False  not available in demo dataset   \n",
       "3            False  not available in demo dataset   \n",
       "4            False  not available in demo dataset   \n",
       "\n",
       "     device.mobileDeviceBranding  ...      trafficSource   sessionId  \\\n",
       "0  not available in demo dataset  ...  groups.google.com  1494262567   \n",
       "1  not available in demo dataset  ...             google  1491433811   \n",
       "2  not available in demo dataset  ...             google  1489001815   \n",
       "3  not available in demo dataset  ...    docs.google.com  1510593024   \n",
       "4  not available in demo dataset  ...           (direct)  1481559809   \n",
       "\n",
       "  sessionNumber sessionStart  userId locationZone geoCluster  \\\n",
       "0             2   1494262567   59555            8   Region_2   \n",
       "1             1   1491433811    6394            8   Region_1   \n",
       "2             1   1489001815   38969            8   Region_5   \n",
       "3            30   1510593024  120027            8   Region_2   \n",
       "4             1   1481559809   69453            8   Region_3   \n",
       "\n",
       "                    browserMajor screenSize gclIdPresent  \n",
       "0  not available in demo dataset     medium            0  \n",
       "1  not available in demo dataset     medium            0  \n",
       "2  not available in demo dataset     medium            0  \n",
       "3  not available in demo dataset     medium            0  \n",
       "4  not available in demo dataset     medium            0  \n",
       "\n",
       "[5 rows x 51 columns]"
      ]
     },
     "execution_count": 5,
     "metadata": {},
     "output_type": "execute_result"
    }
   ],
   "source": [
    "Final_test.head()"
   ]
  },
  {
   "cell_type": "code",
   "execution_count": 6,
   "id": "05f50dd5",
   "metadata": {
    "execution": {
     "iopub.execute_input": "2025-08-05T17:57:43.863574Z",
     "iopub.status.busy": "2025-08-05T17:57:43.862813Z",
     "iopub.status.idle": "2025-08-05T17:57:43.869025Z",
     "shell.execute_reply": "2025-08-05T17:57:43.868156Z"
    },
    "papermill": {
     "duration": 0.01952,
     "end_time": "2025-08-05T17:57:43.870436",
     "exception": false,
     "start_time": "2025-08-05T17:57:43.850916",
     "status": "completed"
    },
    "tags": []
   },
   "outputs": [
    {
     "name": "stdout",
     "output_type": "stream",
     "text": [
      "Shape of Full Data: (116023, 52)\n",
      "Shape of Final Test Data: (29006, 51)\n",
      "Shape of Features (X): (116023, 51)\n",
      "Shape of Target (y): (116023,)\n"
     ]
    }
   ],
   "source": [
    "print(\"Shape of Full Data:\", train_data.shape)\n",
    "print(\"Shape of Final Test Data:\", Final_test.shape)\n",
    "print(\"Shape of Features (X):\", X.shape)\n",
    "print(\"Shape of Target (y):\", y.shape)"
   ]
  },
  {
   "cell_type": "code",
   "execution_count": 7,
   "id": "4f75ceff",
   "metadata": {
    "execution": {
     "iopub.execute_input": "2025-08-05T17:57:43.893737Z",
     "iopub.status.busy": "2025-08-05T17:57:43.893430Z",
     "iopub.status.idle": "2025-08-05T17:57:44.114958Z",
     "shell.execute_reply": "2025-08-05T17:57:44.113544Z"
    },
    "papermill": {
     "duration": 0.234789,
     "end_time": "2025-08-05T17:57:44.116489",
     "exception": false,
     "start_time": "2025-08-05T17:57:43.881700",
     "status": "completed"
    },
    "tags": []
   },
   "outputs": [
    {
     "name": "stdout",
     "output_type": "stream",
     "text": [
      "<class 'pandas.core.frame.DataFrame'>\n",
      "RangeIndex: 116023 entries, 0 to 116022\n",
      "Data columns (total 52 columns):\n",
      " #   Column                                        Non-Null Count   Dtype  \n",
      "---  ------                                        --------------   -----  \n",
      " 0   trafficSource.isTrueDirect                    42890 non-null   object \n",
      " 1   purchaseValue                                 116023 non-null  float64\n",
      " 2   browser                                       116023 non-null  object \n",
      " 3   device.screenResolution                       116023 non-null  object \n",
      " 4   trafficSource.adContent                       2963 non-null    object \n",
      " 5   trafficSource.keyword                         44162 non-null   object \n",
      " 6   screenSize                                    116023 non-null  object \n",
      " 7   geoCluster                                    116023 non-null  object \n",
      " 8   trafficSource.adwordsClickInfo.slot           4281 non-null    object \n",
      " 9   device.mobileDeviceBranding                   116023 non-null  object \n",
      " 10  device.mobileInputSelector                    116023 non-null  object \n",
      " 11  userId                                        116023 non-null  int64  \n",
      " 12  trafficSource.campaign                        116023 non-null  object \n",
      " 13  device.mobileDeviceMarketingName              116023 non-null  object \n",
      " 14  geoNetwork.networkDomain                      116023 non-null  object \n",
      " 15  gclIdPresent                                  116023 non-null  int64  \n",
      " 16  device.operatingSystemVersion                 116023 non-null  object \n",
      " 17  sessionNumber                                 116023 non-null  int64  \n",
      " 18  device.flashVersion                           116023 non-null  object \n",
      " 19  geoNetwork.region                             116023 non-null  object \n",
      " 20  trafficSource                                 116023 non-null  object \n",
      " 21  totals.visits                                 116023 non-null  int64  \n",
      " 22  geoNetwork.networkLocation                    116023 non-null  object \n",
      " 23  sessionId                                     116023 non-null  int64  \n",
      " 24  os                                            116023 non-null  object \n",
      " 25  geoNetwork.subContinent                       116023 non-null  object \n",
      " 26  trafficSource.medium                          116023 non-null  object \n",
      " 27  trafficSource.adwordsClickInfo.isVideoAd      4281 non-null    object \n",
      " 28  browserMajor                                  116023 non-null  object \n",
      " 29  locationCountry                               116023 non-null  object \n",
      " 30  device.browserSize                            116023 non-null  object \n",
      " 31  trafficSource.adwordsClickInfo.adNetworkType  4281 non-null    object \n",
      " 32  socialEngagementType                          116023 non-null  object \n",
      " 33  geoNetwork.city                               116023 non-null  object \n",
      " 34  trafficSource.adwordsClickInfo.page           4281 non-null    float64\n",
      " 35  geoNetwork.metro                              116023 non-null  object \n",
      " 36  pageViews                                     116015 non-null  float64\n",
      " 37  locationZone                                  116023 non-null  int64  \n",
      " 38  device.mobileDeviceModel                      116023 non-null  object \n",
      " 39  trafficSource.referralPath                    42714 non-null   object \n",
      " 40  totals.bounces                                47148 non-null   float64\n",
      " 41  date                                          116023 non-null  int64  \n",
      " 42  device.language                               116023 non-null  object \n",
      " 43  deviceType                                    116023 non-null  object \n",
      " 44  userChannel                                   116023 non-null  object \n",
      " 45  device.browserVersion                         116023 non-null  object \n",
      " 46  totalHits                                     116023 non-null  int64  \n",
      " 47  device.screenColors                           116023 non-null  object \n",
      " 48  sessionStart                                  116023 non-null  int64  \n",
      " 49  geoNetwork.continent                          116023 non-null  object \n",
      " 50  device.isMobile                               116023 non-null  bool   \n",
      " 51  new_visits                                    80518 non-null   float64\n",
      "dtypes: bool(1), float64(5), int64(9), object(37)\n",
      "memory usage: 45.3+ MB\n",
      "None\n"
     ]
    }
   ],
   "source": [
    "print(train_data.info())"
   ]
  },
  {
   "cell_type": "code",
   "execution_count": 8,
   "id": "8614a971",
   "metadata": {
    "execution": {
     "iopub.execute_input": "2025-08-05T17:57:44.139800Z",
     "iopub.status.busy": "2025-08-05T17:57:44.139499Z",
     "iopub.status.idle": "2025-08-05T17:57:44.200532Z",
     "shell.execute_reply": "2025-08-05T17:57:44.199711Z"
    },
    "papermill": {
     "duration": 0.074589,
     "end_time": "2025-08-05T17:57:44.202240",
     "exception": false,
     "start_time": "2025-08-05T17:57:44.127651",
     "status": "completed"
    },
    "tags": []
   },
   "outputs": [
    {
     "name": "stdout",
     "output_type": "stream",
     "text": [
      "<class 'pandas.core.frame.DataFrame'>\n",
      "RangeIndex: 29006 entries, 0 to 29005\n",
      "Data columns (total 51 columns):\n",
      " #   Column                                        Non-Null Count  Dtype  \n",
      "---  ------                                        --------------  -----  \n",
      " 0   userChannel                                   29006 non-null  object \n",
      " 1   date                                          29006 non-null  int64  \n",
      " 2   browser                                       29006 non-null  object \n",
      " 3   device.browserSize                            29006 non-null  object \n",
      " 4   device.browserVersion                         29006 non-null  object \n",
      " 5   deviceType                                    29006 non-null  object \n",
      " 6   device.flashVersion                           29006 non-null  object \n",
      " 7   device.isMobile                               29006 non-null  bool   \n",
      " 8   device.language                               29006 non-null  object \n",
      " 9   device.mobileDeviceBranding                   29006 non-null  object \n",
      " 10  device.mobileDeviceMarketingName              29006 non-null  object \n",
      " 11  device.mobileDeviceModel                      29006 non-null  object \n",
      " 12  device.mobileInputSelector                    29006 non-null  object \n",
      " 13  os                                            29006 non-null  object \n",
      " 14  device.operatingSystemVersion                 29006 non-null  object \n",
      " 15  device.screenColors                           29006 non-null  object \n",
      " 16  device.screenResolution                       29006 non-null  object \n",
      " 17  geoNetwork.city                               29006 non-null  object \n",
      " 18  geoNetwork.continent                          29006 non-null  object \n",
      " 19  locationCountry                               29006 non-null  object \n",
      " 20  geoNetwork.metro                              29006 non-null  object \n",
      " 21  geoNetwork.networkDomain                      29006 non-null  object \n",
      " 22  geoNetwork.networkLocation                    29006 non-null  object \n",
      " 23  geoNetwork.region                             29006 non-null  object \n",
      " 24  geoNetwork.subContinent                       29006 non-null  object \n",
      " 25  socialEngagementType                          29006 non-null  object \n",
      " 26  totals.bounces                                11732 non-null  float64\n",
      " 27  totalHits                                     29006 non-null  int64  \n",
      " 28  new_visits                                    20094 non-null  float64\n",
      " 29  pageViews                                     29003 non-null  float64\n",
      " 30  totals.visits                                 29006 non-null  int64  \n",
      " 31  trafficSource.adContent                       759 non-null    object \n",
      " 32  trafficSource.adwordsClickInfo.adNetworkType  1107 non-null   object \n",
      " 33  trafficSource.adwordsClickInfo.isVideoAd      1107 non-null   object \n",
      " 34  trafficSource.adwordsClickInfo.page           1107 non-null   float64\n",
      " 35  trafficSource.adwordsClickInfo.slot           1107 non-null   object \n",
      " 36  trafficSource.campaign                        29006 non-null  object \n",
      " 37  trafficSource.isTrueDirect                    10761 non-null  object \n",
      " 38  trafficSource.keyword                         11044 non-null  object \n",
      " 39  trafficSource.medium                          29006 non-null  object \n",
      " 40  trafficSource.referralPath                    10611 non-null  object \n",
      " 41  trafficSource                                 29006 non-null  object \n",
      " 42  sessionId                                     29006 non-null  int64  \n",
      " 43  sessionNumber                                 29006 non-null  int64  \n",
      " 44  sessionStart                                  29006 non-null  int64  \n",
      " 45  userId                                        29006 non-null  int64  \n",
      " 46  locationZone                                  29006 non-null  int64  \n",
      " 47  geoCluster                                    29006 non-null  object \n",
      " 48  browserMajor                                  29006 non-null  object \n",
      " 49  screenSize                                    29006 non-null  object \n",
      " 50  gclIdPresent                                  29006 non-null  int64  \n",
      "dtypes: bool(1), float64(4), int64(9), object(37)\n",
      "memory usage: 11.1+ MB\n",
      "None\n"
     ]
    }
   ],
   "source": [
    "print(Final_test.info())"
   ]
  },
  {
   "cell_type": "code",
   "execution_count": 9,
   "id": "532a5e8f",
   "metadata": {
    "execution": {
     "iopub.execute_input": "2025-08-05T17:57:44.232228Z",
     "iopub.status.busy": "2025-08-05T17:57:44.231817Z",
     "iopub.status.idle": "2025-08-05T17:57:44.238993Z",
     "shell.execute_reply": "2025-08-05T17:57:44.237840Z"
    },
    "papermill": {
     "duration": 0.021287,
     "end_time": "2025-08-05T17:57:44.240947",
     "exception": false,
     "start_time": "2025-08-05T17:57:44.219660",
     "status": "completed"
    },
    "tags": []
   },
   "outputs": [
    {
     "name": "stdout",
     "output_type": "stream",
     "text": [
      "Data Types:\n",
      "object     37\n",
      "int64       9\n",
      "float64     4\n",
      "bool        1\n",
      "Name: count, dtype: int64\n"
     ]
    }
   ],
   "source": [
    "print(\"Data Types:\")\n",
    "print(X.dtypes.value_counts())"
   ]
  },
  {
   "cell_type": "code",
   "execution_count": 10,
   "id": "fc699bee",
   "metadata": {
    "execution": {
     "iopub.execute_input": "2025-08-05T17:57:44.271522Z",
     "iopub.status.busy": "2025-08-05T17:57:44.270676Z",
     "iopub.status.idle": "2025-08-05T17:57:44.331323Z",
     "shell.execute_reply": "2025-08-05T17:57:44.330317Z"
    },
    "papermill": {
     "duration": 0.074241,
     "end_time": "2025-08-05T17:57:44.332731",
     "exception": false,
     "start_time": "2025-08-05T17:57:44.258490",
     "status": "completed"
    },
    "tags": []
   },
   "outputs": [
    {
     "name": "stdout",
     "output_type": "stream",
     "text": [
      "Total numerical columns: 13 → ['userId', 'gclIdPresent', 'sessionNumber', 'totals.visits', 'sessionId', 'trafficSource.adwordsClickInfo.page', 'pageViews', 'locationZone', 'totals.bounces', 'date', 'totalHits', 'sessionStart', 'new_visits']\n",
      "Total categorical columns: 38 → ['trafficSource.isTrueDirect', 'browser', 'device.screenResolution', 'trafficSource.adContent', 'trafficSource.keyword', 'screenSize', 'geoCluster', 'trafficSource.adwordsClickInfo.slot', 'device.mobileDeviceBranding', 'device.mobileInputSelector', 'trafficSource.campaign', 'device.mobileDeviceMarketingName', 'geoNetwork.networkDomain', 'device.operatingSystemVersion', 'device.flashVersion', 'geoNetwork.region', 'trafficSource', 'geoNetwork.networkLocation', 'os', 'geoNetwork.subContinent', 'trafficSource.medium', 'trafficSource.adwordsClickInfo.isVideoAd', 'browserMajor', 'locationCountry', 'device.browserSize', 'trafficSource.adwordsClickInfo.adNetworkType', 'socialEngagementType', 'geoNetwork.city', 'geoNetwork.metro', 'device.mobileDeviceModel', 'trafficSource.referralPath', 'device.language', 'deviceType', 'userChannel', 'device.browserVersion', 'device.screenColors', 'geoNetwork.continent', 'device.isMobile']\n"
     ]
    }
   ],
   "source": [
    "num_cols = X.select_dtypes(include=['number']).columns.tolist()\n",
    "cat_cols = X.select_dtypes(exclude=['number']).columns.tolist()\n",
    "print(f\"Total numerical columns: {len(num_cols)} → {num_cols}\")\n",
    "print(f\"Total categorical columns: {len(cat_cols)} → {cat_cols}\")"
   ]
  },
  {
   "cell_type": "code",
   "execution_count": 11,
   "id": "4d021e85",
   "metadata": {
    "execution": {
     "iopub.execute_input": "2025-08-05T17:57:44.356846Z",
     "iopub.status.busy": "2025-08-05T17:57:44.356563Z",
     "iopub.status.idle": "2025-08-05T17:57:44.612743Z",
     "shell.execute_reply": "2025-08-05T17:57:44.611958Z"
    },
    "papermill": {
     "duration": 0.270056,
     "end_time": "2025-08-05T17:57:44.614440",
     "exception": false,
     "start_time": "2025-08-05T17:57:44.344384",
     "status": "completed"
    },
    "tags": []
   },
   "outputs": [
    {
     "name": "stdout",
     "output_type": "stream",
     "text": [
      "Missing values in train_data: (116023, 52)\n",
      "trafficSource.adContent                         113060\n",
      "trafficSource.adwordsClickInfo.slot             111742\n",
      "trafficSource.adwordsClickInfo.isVideoAd        111742\n",
      "trafficSource.adwordsClickInfo.adNetworkType    111742\n",
      "trafficSource.adwordsClickInfo.page             111742\n",
      "trafficSource.referralPath                       73309\n",
      "trafficSource.isTrueDirect                       73133\n",
      "trafficSource.keyword                            71861\n",
      "totals.bounces                                   68875\n",
      "new_visits                                       35505\n",
      "pageViews                                            8\n",
      "dtype: int64\n",
      "\n",
      "Missing values in Final_test: (29006, 51)\n",
      "trafficSource.adContent                         28247\n",
      "trafficSource.adwordsClickInfo.adNetworkType    27899\n",
      "trafficSource.adwordsClickInfo.isVideoAd        27899\n",
      "trafficSource.adwordsClickInfo.page             27899\n",
      "trafficSource.adwordsClickInfo.slot             27899\n",
      "trafficSource.referralPath                      18395\n",
      "trafficSource.isTrueDirect                      18245\n",
      "trafficSource.keyword                           17962\n",
      "totals.bounces                                  17274\n",
      "new_visits                                       8912\n",
      "pageViews                                           3\n",
      "dtype: int64\n"
     ]
    }
   ],
   "source": [
    "print(f\"Missing values in train_data: {train_data.shape}\")\n",
    "missing_train = train_data.isna().sum()\n",
    "missing_train = missing_train[missing_train > 0].sort_values(ascending=False)\n",
    "print(missing_train)\n",
    "\n",
    "print(f\"\\nMissing values in Final_test: {Final_test.shape}\")\n",
    "missing_test = Final_test.isna().sum()\n",
    "missing_test = missing_test[missing_test > 0].sort_values(ascending=False)\n",
    "print(missing_test)"
   ]
  },
  {
   "cell_type": "markdown",
   "id": "a6a603db",
   "metadata": {
    "papermill": {
     "duration": 0.01324,
     "end_time": "2025-08-05T17:57:44.703573",
     "exception": false,
     "start_time": "2025-08-05T17:57:44.690333",
     "status": "completed"
    },
    "tags": []
   },
   "source": [
    "# 4. Dummy Regressor"
   ]
  },
  {
   "cell_type": "code",
   "execution_count": 12,
   "id": "d8f95d26",
   "metadata": {
    "execution": {
     "iopub.execute_input": "2025-08-05T17:57:44.727926Z",
     "iopub.status.busy": "2025-08-05T17:57:44.727628Z",
     "iopub.status.idle": "2025-08-05T17:57:44.749782Z",
     "shell.execute_reply": "2025-08-05T17:57:44.748879Z"
    },
    "papermill": {
     "duration": 0.0361,
     "end_time": "2025-08-05T17:57:44.751289",
     "exception": false,
     "start_time": "2025-08-05T17:57:44.715189",
     "status": "completed"
    },
    "tags": []
   },
   "outputs": [
    {
     "name": "stdout",
     "output_type": "stream",
     "text": [
      "Dummy RMSE: 205181642.9149616\n"
     ]
    }
   ],
   "source": [
    "dummy_model = DummyRegressor(strategy='mean')\n",
    "\n",
    "dummy_model.fit(X, y)\n",
    "\n",
    "y_pred = dummy_model.predict(X)\n",
    "\n",
    "rmse = mean_squared_error(y, y_pred, squared=False)\n",
    "\n",
    "print(\"Dummy RMSE:\", rmse)"
   ]
  },
  {
   "cell_type": "markdown",
   "id": "c1ecbdd8",
   "metadata": {
    "papermill": {
     "duration": 0.011386,
     "end_time": "2025-08-05T17:57:44.774956",
     "exception": false,
     "start_time": "2025-08-05T17:57:44.763570",
     "status": "completed"
    },
    "tags": []
   },
   "source": [
    "# 5. Exploratory Data Analysis"
   ]
  },
  {
   "cell_type": "markdown",
   "id": "98de2d42",
   "metadata": {
    "papermill": {
     "duration": 0.011245,
     "end_time": "2025-08-05T17:57:44.797763",
     "exception": false,
     "start_time": "2025-08-05T17:57:44.786518",
     "status": "completed"
    },
    "tags": []
   },
   "source": [
    "## 5.1. Numerical fetaures"
   ]
  },
  {
   "cell_type": "code",
   "execution_count": 13,
   "id": "225903c6",
   "metadata": {
    "execution": {
     "iopub.execute_input": "2025-08-05T17:57:44.822642Z",
     "iopub.status.busy": "2025-08-05T17:57:44.821934Z",
     "iopub.status.idle": "2025-08-05T17:57:44.872099Z",
     "shell.execute_reply": "2025-08-05T17:57:44.870847Z"
    },
    "papermill": {
     "duration": 0.064021,
     "end_time": "2025-08-05T17:57:44.873531",
     "exception": false,
     "start_time": "2025-08-05T17:57:44.809510",
     "status": "completed"
    },
    "tags": []
   },
   "outputs": [
    {
     "name": "stdout",
     "output_type": "stream",
     "text": [
      "userId                                -0.003469\n",
      "gclIdPresent                          -0.005652\n",
      "sessionNumber                          0.230585\n",
      "totals.visits                               NaN\n",
      "sessionId                             -0.018537\n",
      "trafficSource.adwordsClickInfo.page   -0.025839\n",
      "pageViews                              0.248454\n",
      "locationZone                                NaN\n",
      "totals.bounces                              NaN\n",
      "date                                  -0.010338\n",
      "totalHits                              0.251651\n",
      "sessionStart                          -0.018537\n",
      "new_visits                                  NaN\n",
      "dtype: float64\n"
     ]
    }
   ],
   "source": [
    "correlation = X[num_cols].corrwith(y)\n",
    "print(correlation)"
   ]
  },
  {
   "cell_type": "code",
   "execution_count": 14,
   "id": "00725963",
   "metadata": {
    "execution": {
     "iopub.execute_input": "2025-08-05T17:57:44.898230Z",
     "iopub.status.busy": "2025-08-05T17:57:44.897899Z",
     "iopub.status.idle": "2025-08-05T17:57:44.944455Z",
     "shell.execute_reply": "2025-08-05T17:57:44.943732Z"
    },
    "papermill": {
     "duration": 0.060359,
     "end_time": "2025-08-05T17:57:44.945733",
     "exception": false,
     "start_time": "2025-08-05T17:57:44.885374",
     "status": "completed"
    },
    "tags": []
   },
   "outputs": [
    {
     "data": {
      "text/plain": [
       "Purchased\n",
       "False    92038\n",
       "True     23985\n",
       "Name: count, dtype: int64"
      ]
     },
     "execution_count": 14,
     "metadata": {},
     "output_type": "execute_result"
    }
   ],
   "source": [
    "temp_df=train_data.copy()\n",
    "temp_df['Purchased']=temp_df['purchaseValue'] > 0\n",
    "temp_df['Purchased'].value_counts()"
   ]
  },
  {
   "cell_type": "markdown",
   "id": "6fdead90",
   "metadata": {
    "papermill": {
     "duration": 0.011483,
     "end_time": "2025-08-05T17:57:44.969156",
     "exception": false,
     "start_time": "2025-08-05T17:57:44.957673",
     "status": "completed"
    },
    "tags": []
   },
   "source": [
    "### 5.1.1. PageVeiws"
   ]
  },
  {
   "cell_type": "code",
   "execution_count": 15,
   "id": "888bc959",
   "metadata": {
    "execution": {
     "iopub.execute_input": "2025-08-05T17:57:44.993550Z",
     "iopub.status.busy": "2025-08-05T17:57:44.993255Z",
     "iopub.status.idle": "2025-08-05T17:57:46.035717Z",
     "shell.execute_reply": "2025-08-05T17:57:46.034823Z"
    },
    "papermill": {
     "duration": 1.056216,
     "end_time": "2025-08-05T17:57:46.036987",
     "exception": false,
     "start_time": "2025-08-05T17:57:44.980771",
     "status": "completed"
    },
    "tags": []
   },
   "outputs": [
    {
     "data": {
      "image/png": "[encoded data removed]",
      "text/plain": [
       "<Figure size 1000x600 with 1 Axes>"
      ]
     },
     "metadata": {},
     "output_type": "display_data"
    },
    {
     "data": {
      "image/png": "[encoded data removed]",
      "text/plain": [
       "<Figure size 1000x600 with 1 Axes>"
      ]
     },
     "metadata": {},
     "output_type": "display_data"
    }
   ],
   "source": [
    "plt.figure(figsize=(10, 6))\n",
    "sns.histplot(temp_df['pageViews'], bins=50, kde=True)\n",
    "plt.title(\"Distribution of PageViews\")\n",
    "plt.xlabel(\"PageViews\")\n",
    "plt.ylabel(\"Count\")\n",
    "plt.grid(True, axis='y', linestyle='--', alpha=0.6)\n",
    "plt.show()\n",
    "\n",
    "plt.figure(figsize=(10, 6))\n",
    "sns.boxplot(x=temp_df['pageViews'])\n",
    "plt.title(\"Box Plot of PageViews\")\n",
    "plt.xlabel(\"PageViews\")\n",
    "plt.grid(True, axis='x', linestyle='--', alpha=0.6)\n",
    "plt.show()"
   ]
  },
  {
   "cell_type": "code",
   "execution_count": 16,
   "id": "e742f140",
   "metadata": {
    "execution": {
     "iopub.execute_input": "2025-08-05T17:57:46.064207Z",
     "iopub.status.busy": "2025-08-05T17:57:46.063881Z",
     "iopub.status.idle": "2025-08-05T17:57:46.373864Z",
     "shell.execute_reply": "2025-08-05T17:57:46.373070Z"
    },
    "papermill": {
     "duration": 0.32537,
     "end_time": "2025-08-05T17:57:46.375632",
     "exception": false,
     "start_time": "2025-08-05T17:57:46.050262",
     "status": "completed"
    },
    "tags": []
   },
   "outputs": [
    {
     "data": {
      "image/png": "[encoded data removed]",
      "text/plain": [
       "<Figure size 1200x700 with 1 Axes>"
      ]
     },
     "metadata": {},
     "output_type": "display_data"
    },
    {
     "name": "stdout",
     "output_type": "stream",
     "text": [
      "Purchased         False  True \n",
      "pageViews_binned              \n",
      "0-50              91876  21946\n",
      "51-100              141   1809\n",
      "101-150               8    181\n",
      "151-200               3     22\n",
      "201-250               2      8\n",
      "251-300               0      2\n",
      "301-350               0      9\n",
      "351-400               0      3\n",
      "400+                  0      5\n"
     ]
    }
   ],
   "source": [
    "bins = [0, 50, 100, 150, 200, 250, 300, 350, 400,1000]\n",
    "labels = ['0-50', '51-100', '101-150', '151-200', '201-250', '251-300', '301-350', '351-400', '400+']\n",
    "temp_df['pageViews_binned'] = pd.cut(temp_df['pageViews'], bins=bins, labels=labels, right=True)\n",
    "\n",
    "counts = temp_df.groupby(['pageViews_binned', 'Purchased']).size().unstack(fill_value=0)\n",
    "\n",
    "counts.plot(kind='bar', figsize=(12, 7), color=['orange', 'blue'])\n",
    "plt.title('Purchase Distribution by PageViews Range')\n",
    "plt.xlabel('PageViews Range')\n",
    "plt.ylabel('Number of Users')\n",
    "plt.xticks(rotation=45)\n",
    "plt.legend(['Not Purchased', 'Purchased'], title='Status')\n",
    "plt.show()\n",
    "print(counts)"
   ]
  },
  {
   "cell_type": "code",
   "execution_count": 17,
   "id": "3c8e0244",
   "metadata": {
    "execution": {
     "iopub.execute_input": "2025-08-05T17:57:46.405450Z",
     "iopub.status.busy": "2025-08-05T17:57:46.405122Z",
     "iopub.status.idle": "2025-08-05T17:57:46.411247Z",
     "shell.execute_reply": "2025-08-05T17:57:46.410400Z"
    },
    "papermill": {
     "duration": 0.022446,
     "end_time": "2025-08-05T17:57:46.412558",
     "exception": false,
     "start_time": "2025-08-05T17:57:46.390112",
     "status": "completed"
    },
    "tags": []
   },
   "outputs": [
    {
     "name": "stdout",
     "output_type": "stream",
     "text": [
      "Percentage wise\n",
      "\n",
      "pageViews_binned\n",
      "0-50        19.280983\n",
      "51-100      92.769231\n",
      "101-150     95.767196\n",
      "151-200     88.000000\n",
      "201-250     80.000000\n",
      "251-300    100.000000\n",
      "301-350    100.000000\n",
      "351-400    100.000000\n",
      "400+       100.000000\n",
      "dtype: float64\n"
     ]
    }
   ],
   "source": [
    "print(\"Percentage wise\\n\")\n",
    "print(counts[True]/(counts[True]+counts[False])*100)"
   ]
  },
  {
   "cell_type": "markdown",
   "id": "5c0c9ba9",
   "metadata": {
    "papermill": {
     "duration": 0.013799,
     "end_time": "2025-08-05T17:57:46.441092",
     "exception": false,
     "start_time": "2025-08-05T17:57:46.427293",
     "status": "completed"
    },
    "tags": []
   },
   "source": [
    "### 5.1.2. sessionNumber"
   ]
  },
  {
   "cell_type": "code",
   "execution_count": 18,
   "id": "f07b1068",
   "metadata": {
    "execution": {
     "iopub.execute_input": "2025-08-05T17:57:46.469841Z",
     "iopub.status.busy": "2025-08-05T17:57:46.469548Z",
     "iopub.status.idle": "2025-08-05T17:57:47.379090Z",
     "shell.execute_reply": "2025-08-05T17:57:47.378237Z"
    },
    "papermill": {
     "duration": 0.925692,
     "end_time": "2025-08-05T17:57:47.380500",
     "exception": false,
     "start_time": "2025-08-05T17:57:46.454808",
     "status": "completed"
    },
    "tags": []
   },
   "outputs": [
    {
     "data": {
      "image/png": "[encoded data removed]",
      "text/plain": [
       "<Figure size 1000x600 with 1 Axes>"
      ]
     },
     "metadata": {},
     "output_type": "display_data"
    },
    {
     "data": {
      "image/png": "[encoded data removed]",
      "text/plain": [
       "<Figure size 1000x600 with 1 Axes>"
      ]
     },
     "metadata": {},
     "output_type": "display_data"
    }
   ],
   "source": [
    "plt.figure(figsize=(10, 6))\n",
    "sns.histplot(temp_df['sessionNumber'], bins=50, kde=True)\n",
    "plt.title(\"Distribution of sessionNumber\")\n",
    "plt.xlabel(\"sessionNumber\")\n",
    "plt.ylabel(\"Count\")\n",
    "plt.grid(True, axis='y', linestyle='--', alpha=0.6)\n",
    "plt.show()\n",
    "\n",
    "plt.figure(figsize=(10, 6))\n",
    "sns.boxplot(x=temp_df['sessionNumber'])\n",
    "plt.title(\"Box Plot of sessionNumber\")\n",
    "plt.xlabel(\"sessionNumber\")\n",
    "plt.grid(True, axis='x', linestyle='--', alpha=0.6)\n",
    "plt.show()"
   ]
  },
  {
   "cell_type": "code",
   "execution_count": 19,
   "id": "bc6e790c",
   "metadata": {
    "execution": {
     "iopub.execute_input": "2025-08-05T17:57:47.412162Z",
     "iopub.status.busy": "2025-08-05T17:57:47.411817Z",
     "iopub.status.idle": "2025-08-05T17:57:47.643588Z",
     "shell.execute_reply": "2025-08-05T17:57:47.642791Z"
    },
    "papermill": {
     "duration": 0.249975,
     "end_time": "2025-08-05T17:57:47.645741",
     "exception": false,
     "start_time": "2025-08-05T17:57:47.395766",
     "status": "completed"
    },
    "tags": []
   },
   "outputs": [
    {
     "data": {
      "image/png": "[encoded data removed]",
      "text/plain": [
       "<Figure size 1200x700 with 1 Axes>"
      ]
     },
     "metadata": {},
     "output_type": "display_data"
    },
    {
     "name": "stdout",
     "output_type": "stream",
     "text": [
      "Purchased             False  True \n",
      "sessionNumber_binned              \n",
      "0-50                  91643  23843\n",
      "51-100                  210     74\n",
      "101-150                 100     33\n",
      "151-200                  38      3\n",
      "201-250                  18      8\n",
      "251-300                  14     10\n",
      "301-350                   3      8\n",
      "351-400                   8      5\n",
      "400+                      4      1\n"
     ]
    }
   ],
   "source": [
    "bins = [0, 50, 100, 150, 200, 250, 300, 350, 400,1000]\n",
    "labels = ['0-50', '51-100', '101-150', '151-200', '201-250', '251-300', '301-350', '351-400', '400+']\n",
    "temp_df['sessionNumber_binned'] = pd.cut(temp_df['sessionNumber'], bins=bins, labels=labels, right=True)\n",
    "\n",
    "counts = temp_df.groupby(['sessionNumber_binned', 'Purchased']).size().unstack(fill_value=0)\n",
    "\n",
    "counts.plot(kind='bar', figsize=(12, 7), color=['orange', 'blue'])\n",
    "plt.title('Purchase Distribution by sessionNumber Range')\n",
    "plt.xlabel('sessionNumber Range')\n",
    "plt.ylabel('Number of Users')\n",
    "plt.xticks(rotation=45)\n",
    "plt.legend(['Not Purchased', 'Purchased'], title='Status')\n",
    "plt.show()\n",
    "print(counts)"
   ]
  },
  {
   "cell_type": "code",
   "execution_count": 20,
   "id": "0421c01b",
   "metadata": {
    "execution": {
     "iopub.execute_input": "2025-08-05T17:57:47.679541Z",
     "iopub.status.busy": "2025-08-05T17:57:47.678725Z",
     "iopub.status.idle": "2025-08-05T17:57:47.684900Z",
     "shell.execute_reply": "2025-08-05T17:57:47.684065Z"
    },
    "papermill": {
     "duration": 0.02409,
     "end_time": "2025-08-05T17:57:47.686167",
     "exception": false,
     "start_time": "2025-08-05T17:57:47.662077",
     "status": "completed"
    },
    "tags": []
   },
   "outputs": [
    {
     "name": "stdout",
     "output_type": "stream",
     "text": [
      "Percentage wise\n",
      "\n",
      "sessionNumber_binned\n",
      "0-50       20.645793\n",
      "51-100     26.056338\n",
      "101-150    24.812030\n",
      "151-200     7.317073\n",
      "201-250    30.769231\n",
      "251-300    41.666667\n",
      "301-350    72.727273\n",
      "351-400    38.461538\n",
      "400+       20.000000\n",
      "dtype: float64\n"
     ]
    }
   ],
   "source": [
    "print(\"Percentage wise\\n\")\n",
    "print(counts[True]/(counts[True]+counts[False])*100)"
   ]
  },
  {
   "cell_type": "markdown",
   "id": "508611ed",
   "metadata": {
    "papermill": {
     "duration": 0.01563,
     "end_time": "2025-08-05T17:57:47.717740",
     "exception": false,
     "start_time": "2025-08-05T17:57:47.702110",
     "status": "completed"
    },
    "tags": []
   },
   "source": [
    "### 5.1.3. totalHits"
   ]
  },
  {
   "cell_type": "code",
   "execution_count": 21,
   "id": "c07f6bf1",
   "metadata": {
    "execution": {
     "iopub.execute_input": "2025-08-05T17:57:47.750926Z",
     "iopub.status.busy": "2025-08-05T17:57:47.750189Z",
     "iopub.status.idle": "2025-08-05T17:57:48.687031Z",
     "shell.execute_reply": "2025-08-05T17:57:48.686050Z"
    },
    "papermill": {
     "duration": 0.955036,
     "end_time": "2025-08-05T17:57:48.688509",
     "exception": false,
     "start_time": "2025-08-05T17:57:47.733473",
     "status": "completed"
    },
    "tags": []
   },
   "outputs": [
    {
     "data": {
      "image/png": "[encoded data removed]",
      "text/plain": [
       "<Figure size 1000x600 with 1 Axes>"
      ]
     },
     "metadata": {},
     "output_type": "display_data"
    },
    {
     "data": {
      "image/png": "[encoded data removed]",
      "text/plain": [
       "<Figure size 1000x600 with 1 Axes>"
      ]
     },
     "metadata": {},
     "output_type": "display_data"
    }
   ],
   "source": [
    "plt.figure(figsize=(10, 6))\n",
    "sns.histplot(temp_df['totalHits'], bins=50, kde=True)\n",
    "plt.title(\"Distribution of totalHits\")\n",
    "plt.xlabel(\"totalHits\")\n",
    "plt.ylabel(\"Count\")\n",
    "plt.grid(True, axis='y', linestyle='--', alpha=0.6)\n",
    "plt.show()\n",
    "\n",
    "plt.figure(figsize=(10, 6))\n",
    "sns.boxplot(x=temp_df['totalHits'])\n",
    "plt.title(\"Box Plot of totalHits\")\n",
    "plt.xlabel(\"totalHits\")\n",
    "plt.grid(True, axis='x', linestyle='--', alpha=0.6)\n",
    "plt.show()"
   ]
  },
  {
   "cell_type": "code",
   "execution_count": 22,
   "id": "e88193be",
   "metadata": {
    "execution": {
     "iopub.execute_input": "2025-08-05T17:57:48.724887Z",
     "iopub.status.busy": "2025-08-05T17:57:48.724589Z",
     "iopub.status.idle": "2025-08-05T17:57:48.956434Z",
     "shell.execute_reply": "2025-08-05T17:57:48.955585Z"
    },
    "papermill": {
     "duration": 0.251925,
     "end_time": "2025-08-05T17:57:48.958303",
     "exception": false,
     "start_time": "2025-08-05T17:57:48.706378",
     "status": "completed"
    },
    "tags": []
   },
   "outputs": [
    {
     "data": {
      "image/png": "[encoded data removed]",
      "text/plain": [
       "<Figure size 1200x700 with 1 Axes>"
      ]
     },
     "metadata": {},
     "output_type": "display_data"
    },
    {
     "name": "stdout",
     "output_type": "stream",
     "text": [
      "Purchased         False  True \n",
      "totalHits_binned              \n",
      "0-50              91614  19595\n",
      "51-100              355   3684\n",
      "101-150              57    517\n",
      "151-200               6    119\n",
      "201-250               1     34\n",
      "251-300               0      8\n",
      "301-350               2      8\n",
      "351-400               1     10\n",
      "400+                  2     10\n"
     ]
    }
   ],
   "source": [
    "bins = [0, 50, 100, 150, 200, 250, 300, 350, 400,1000]\n",
    "labels = ['0-50', '51-100', '101-150', '151-200', '201-250', '251-300', '301-350', '351-400', '400+']\n",
    "temp_df['totalHits_binned'] = pd.cut(temp_df['totalHits'], bins=bins, labels=labels, right=True)\n",
    "\n",
    "counts = temp_df.groupby(['totalHits_binned', 'Purchased']).size().unstack(fill_value=0)\n",
    "\n",
    "counts.plot(kind='bar', figsize=(12, 7), color=['orange', 'blue'])\n",
    "plt.title('Purchase Distribution by totalHits Range')\n",
    "plt.xlabel('totalHits Range')\n",
    "plt.ylabel('Number of Users')\n",
    "plt.xticks(rotation=45)\n",
    "plt.legend(['Not Purchased', 'Purchased'], title='Status')\n",
    "plt.show()\n",
    "print(counts)"
   ]
  },
  {
   "cell_type": "code",
   "execution_count": 23,
   "id": "7a968588",
   "metadata": {
    "execution": {
     "iopub.execute_input": "2025-08-05T17:57:48.995980Z",
     "iopub.status.busy": "2025-08-05T17:57:48.995686Z",
     "iopub.status.idle": "2025-08-05T17:57:49.002292Z",
     "shell.execute_reply": "2025-08-05T17:57:49.001281Z"
    },
    "papermill": {
     "duration": 0.026662,
     "end_time": "2025-08-05T17:57:49.003567",
     "exception": false,
     "start_time": "2025-08-05T17:57:48.976905",
     "status": "completed"
    },
    "tags": []
   },
   "outputs": [
    {
     "name": "stdout",
     "output_type": "stream",
     "text": [
      "Percentage wise\n",
      "\n",
      "totalHits_binned\n",
      "0-50        17.619977\n",
      "51-100      91.210696\n",
      "101-150     90.069686\n",
      "151-200     95.200000\n",
      "201-250     97.142857\n",
      "251-300    100.000000\n",
      "301-350     80.000000\n",
      "351-400     90.909091\n",
      "400+        83.333333\n",
      "dtype: float64\n"
     ]
    }
   ],
   "source": [
    "print(\"Percentage wise\\n\")\n",
    "print(counts[True]/(counts[True]+counts[False])*100)"
   ]
  },
  {
   "cell_type": "markdown",
   "id": "8609e6bc",
   "metadata": {
    "papermill": {
     "duration": 0.017739,
     "end_time": "2025-08-05T17:57:49.039321",
     "exception": false,
     "start_time": "2025-08-05T17:57:49.021582",
     "status": "completed"
    },
    "tags": []
   },
   "source": [
    "### 5.1.4. Users v/s PurchaseValue"
   ]
  },
  {
   "cell_type": "code",
   "execution_count": 24,
   "id": "5206782f",
   "metadata": {
    "execution": {
     "iopub.execute_input": "2025-08-05T17:57:49.076525Z",
     "iopub.status.busy": "2025-08-05T17:57:49.076239Z",
     "iopub.status.idle": "2025-08-05T17:57:49.233120Z",
     "shell.execute_reply": "2025-08-05T17:57:49.232297Z"
    },
    "papermill": {
     "duration": 0.177329,
     "end_time": "2025-08-05T17:57:49.234568",
     "exception": false,
     "start_time": "2025-08-05T17:57:49.057239",
     "status": "completed"
    },
    "tags": []
   },
   "outputs": [
    {
     "data": {
      "image/png": "[encoded data removed]",
      "text/plain": [
       "<Figure size 600x400 with 1 Axes>"
      ]
     },
     "metadata": {},
     "output_type": "display_data"
    },
    {
     "name": "stdout",
     "output_type": "stream",
     "text": [
      "Number of user purchased=23985\n",
      "Number of user not purchased=92038\n"
     ]
    }
   ],
   "source": [
    "purchase_counts = temp_df['Purchased'].value_counts()\n",
    "\n",
    "plt.figure(figsize=(6, 4))\n",
    "purchase_counts.plot(kind='bar', color=['blue', 'orange'])\n",
    "plt.xticks([False, True], ['No Purchase', 'Purchase'], rotation=0)\n",
    "plt.ylabel(\"Number of Users\")\n",
    "plt.title(\"Users With and Without Purchase\")\n",
    "plt.grid(axis='y', linestyle='--', alpha=0.7)\n",
    "plt.tight_layout()\n",
    "plt.show()\n",
    "\n",
    "print(f\"Number of user purchased={purchase_counts[1]}\")\n",
    "print(f\"Number of user not purchased={purchase_counts[0]}\")"
   ]
  },
  {
   "cell_type": "markdown",
   "id": "74e24436",
   "metadata": {
    "papermill": {
     "duration": 0.020023,
     "end_time": "2025-08-05T17:57:49.273397",
     "exception": false,
     "start_time": "2025-08-05T17:57:49.253374",
     "status": "completed"
    },
    "tags": []
   },
   "source": [
    "## 5.2. Categorical Features"
   ]
  },
  {
   "cell_type": "markdown",
   "id": "7ec562f6",
   "metadata": {
    "papermill": {
     "duration": 0.017919,
     "end_time": "2025-08-05T17:57:49.309561",
     "exception": false,
     "start_time": "2025-08-05T17:57:49.291642",
     "status": "completed"
    },
    "tags": []
   },
   "source": [
    "### 5.2.1. Browser"
   ]
  },
  {
   "cell_type": "code",
   "execution_count": 25,
   "id": "f45aad96",
   "metadata": {
    "execution": {
     "iopub.execute_input": "2025-08-05T17:57:49.347825Z",
     "iopub.status.busy": "2025-08-05T17:57:49.347072Z",
     "iopub.status.idle": "2025-08-05T17:57:49.362472Z",
     "shell.execute_reply": "2025-08-05T17:57:49.361615Z"
    },
    "papermill": {
     "duration": 0.036016,
     "end_time": "2025-08-05T17:57:49.363907",
     "exception": false,
     "start_time": "2025-08-05T17:57:49.327891",
     "status": "completed"
    },
    "tags": []
   },
   "outputs": [
    {
     "data": {
      "text/plain": [
       "browser\n",
       "Chrome                                                  84508\n",
       "Safari                                                  19184\n",
       "Firefox                                                  4031\n",
       "Internet Explorer                                        2155\n",
       "Android Webview                                          1472\n",
       "Edge                                                     1216\n",
       "Safari (in-app)                                           793\n",
       "Opera Mini                                                733\n",
       "Samsung Internet                                          563\n",
       "Opera                                                     548\n",
       "UC Browser                                                296\n",
       "YaBrowser                                                 187\n",
       "Amazon Silk                                                73\n",
       "Coc Coc                                                    61\n",
       "Android Browser                                            59\n",
       "Mozilla Compatible Agent                                   36\n",
       "MRCHROME                                                   22\n",
       "Nintendo Browser                                           20\n",
       "Maxthon                                                    17\n",
       "BlackBerry                                                 16\n",
       "Nokia Browser                                               8\n",
       "Puffin                                                      7\n",
       "Iron                                                        3\n",
       "osee2unifiedRelease                                         2\n",
       "Seznam                                                      2\n",
       "Playstation Vita Browser                                    2\n",
       "LYF_LS_4002_12                                              2\n",
       ";__CT_JOB_ID__:85da5736-a78e-45a9-837e-f5a53e5cd725;        1\n",
       "(not set)                                                   1\n",
       "Mozilla                                                     1\n",
       "Browser                                                     1\n",
       "MQQBrowser                                                  1\n",
       "M5                                                          1\n",
       "no-ua                                                       1\n",
       "Name: count, dtype: int64"
      ]
     },
     "execution_count": 25,
     "metadata": {},
     "output_type": "execute_result"
    }
   ],
   "source": [
    "temp_df['browser'].value_counts()"
   ]
  },
  {
   "cell_type": "code",
   "execution_count": 26,
   "id": "dadbc0cd",
   "metadata": {
    "execution": {
     "iopub.execute_input": "2025-08-05T17:57:49.402398Z",
     "iopub.status.busy": "2025-08-05T17:57:49.401956Z",
     "iopub.status.idle": "2025-08-05T17:57:49.735533Z",
     "shell.execute_reply": "2025-08-05T17:57:49.734704Z"
    },
    "papermill": {
     "duration": 0.354902,
     "end_time": "2025-08-05T17:57:49.737568",
     "exception": false,
     "start_time": "2025-08-05T17:57:49.382666",
     "status": "completed"
    },
    "tags": []
   },
   "outputs": [
    {
     "data": {
      "image/png": "[encoded data removed]",
      "text/plain": [
       "<Figure size 1200x700 with 1 Axes>"
      ]
     },
     "metadata": {},
     "output_type": "display_data"
    },
    {
     "name": "stdout",
     "output_type": "stream",
     "text": [
      "Purchased          False  True \n",
      "browser                        \n",
      "Android Webview     1463      9\n",
      "Chrome             62913  21595\n",
      "Edge                1103    113\n",
      "Firefox             3594    437\n",
      "Internet Explorer   1942    213\n",
      "Opera                532     16\n",
      "Opera Mini           733      0\n",
      "Safari             17609   1575\n",
      "Safari (in-app)      771     22\n",
      "Samsung Internet     558      5\n"
     ]
    }
   ],
   "source": [
    "top_10_browsers = temp_df['browser'].value_counts().nlargest(10).index\n",
    "\n",
    "df_top10 = temp_df[temp_df['browser'].isin(top_10_browsers)]\n",
    "\n",
    "df_top10['Purchased'] = df_top10['purchaseValue'] > 0\n",
    "\n",
    "counts = df_top10.groupby(['browser', 'Purchased']).size().unstack(fill_value=0)\n",
    "\n",
    "counts.plot(kind='bar', figsize=(12, 7), color=['orange', 'blue'])\n",
    "plt.title('Purchase Distribution for Top 10 Browsers')\n",
    "plt.xlabel('Browser')\n",
    "plt.ylabel('Number of Users')\n",
    "plt.xticks(rotation=45) \n",
    "plt.legend(['Not Purchased', 'Purchased'])\n",
    "plt.show()\n",
    "print(counts)"
   ]
  },
  {
   "cell_type": "code",
   "execution_count": 27,
   "id": "da380216",
   "metadata": {
    "execution": {
     "iopub.execute_input": "2025-08-05T17:57:49.780290Z",
     "iopub.status.busy": "2025-08-05T17:57:49.779967Z",
     "iopub.status.idle": "2025-08-05T17:57:49.785775Z",
     "shell.execute_reply": "2025-08-05T17:57:49.785045Z"
    },
    "papermill": {
     "duration": 0.028719,
     "end_time": "2025-08-05T17:57:49.787193",
     "exception": false,
     "start_time": "2025-08-05T17:57:49.758474",
     "status": "completed"
    },
    "tags": []
   },
   "outputs": [
    {
     "name": "stdout",
     "output_type": "stream",
     "text": [
      "Percentage wise\n",
      "\n",
      "browser\n",
      "Android Webview       0.611413\n",
      "Chrome               25.553794\n",
      "Edge                  9.292763\n",
      "Firefox              10.840982\n",
      "Internet Explorer     9.883991\n",
      "Opera                 2.919708\n",
      "Opera Mini            0.000000\n",
      "Safari                8.209967\n",
      "Safari (in-app)       2.774275\n",
      "Samsung Internet      0.888099\n",
      "dtype: float64\n"
     ]
    }
   ],
   "source": [
    "print(\"Percentage wise\\n\")\n",
    "print(counts[True]/(counts[True]+counts[False])*100)"
   ]
  },
  {
   "cell_type": "markdown",
   "id": "5245f46d",
   "metadata": {
    "papermill": {
     "duration": 0.019922,
     "end_time": "2025-08-05T17:57:49.826832",
     "exception": false,
     "start_time": "2025-08-05T17:57:49.806910",
     "status": "completed"
    },
    "tags": []
   },
   "source": [
    "### 5.2.2. geoCluster (Region)"
   ]
  },
  {
   "cell_type": "code",
   "execution_count": 28,
   "id": "4f660a11",
   "metadata": {
    "execution": {
     "iopub.execute_input": "2025-08-05T17:57:49.867691Z",
     "iopub.status.busy": "2025-08-05T17:57:49.867394Z",
     "iopub.status.idle": "2025-08-05T17:57:50.211780Z",
     "shell.execute_reply": "2025-08-05T17:57:50.211015Z"
    },
    "papermill": {
     "duration": 0.367059,
     "end_time": "2025-08-05T17:57:50.213759",
     "exception": false,
     "start_time": "2025-08-05T17:57:49.846700",
     "status": "completed"
    },
    "tags": []
   },
   "outputs": [
    {
     "data": {
      "image/png": "[encoded data removed]",
      "text/plain": [
       "<Figure size 1000x600 with 1 Axes>"
      ]
     },
     "metadata": {},
     "output_type": "display_data"
    },
    {
     "name": "stdout",
     "output_type": "stream",
     "text": [
      "Purchased   False  True \n",
      "geoCluster              \n",
      "Region_1    18297   4722\n",
      "Region_2    18345   4949\n",
      "Region_3    18386   4835\n",
      "Region_4    18406   4872\n",
      "Region_5    18604   4607\n"
     ]
    }
   ],
   "source": [
    "counts = temp_df.groupby(['geoCluster', 'Purchased']).size().unstack(fill_value=0)\n",
    "\n",
    "counts.plot(kind='bar', figsize=(10, 6), color=['orange', 'blue'])\n",
    "plt.title('Purchase Distribution per geoCluster')\n",
    "plt.xlabel('geoCluster')\n",
    "plt.ylabel('Number of People')\n",
    "plt.xticks(rotation=45)\n",
    "plt.legend(['Not Purchased', 'Purchased'])\n",
    "plt.tight_layout()\n",
    "plt.show()\n",
    "print(counts)"
   ]
  },
  {
   "cell_type": "code",
   "execution_count": 29,
   "id": "05480265",
   "metadata": {
    "execution": {
     "iopub.execute_input": "2025-08-05T17:57:50.257692Z",
     "iopub.status.busy": "2025-08-05T17:57:50.256950Z",
     "iopub.status.idle": "2025-08-05T17:57:50.263179Z",
     "shell.execute_reply": "2025-08-05T17:57:50.262368Z"
    },
    "papermill": {
     "duration": 0.029124,
     "end_time": "2025-08-05T17:57:50.264652",
     "exception": false,
     "start_time": "2025-08-05T17:57:50.235528",
     "status": "completed"
    },
    "tags": []
   },
   "outputs": [
    {
     "name": "stdout",
     "output_type": "stream",
     "text": [
      "Percentage wise\n",
      "\n",
      "geoCluster\n",
      "Region_1    20.513489\n",
      "Region_2    21.245814\n",
      "Region_3    20.821670\n",
      "Region_4    20.929633\n",
      "Region_5    19.848348\n",
      "dtype: float64\n"
     ]
    }
   ],
   "source": [
    "print(\"Percentage wise\\n\")\n",
    "print(counts[True]/(counts[True]+counts[False])*100)"
   ]
  },
  {
   "cell_type": "markdown",
   "id": "0c958c43",
   "metadata": {
    "papermill": {
     "duration": 0.020277,
     "end_time": "2025-08-05T17:57:50.305419",
     "exception": false,
     "start_time": "2025-08-05T17:57:50.285142",
     "status": "completed"
    },
    "tags": []
   },
   "source": [
    "### 5.2.3. geoNetwork.continent (Continent)"
   ]
  },
  {
   "cell_type": "code",
   "execution_count": 30,
   "id": "0409a630",
   "metadata": {
    "execution": {
     "iopub.execute_input": "2025-08-05T17:57:50.347465Z",
     "iopub.status.busy": "2025-08-05T17:57:50.347173Z",
     "iopub.status.idle": "2025-08-05T17:57:50.585803Z",
     "shell.execute_reply": "2025-08-05T17:57:50.584817Z"
    },
    "papermill": {
     "duration": 0.261703,
     "end_time": "2025-08-05T17:57:50.587579",
     "exception": false,
     "start_time": "2025-08-05T17:57:50.325876",
     "status": "completed"
    },
    "tags": []
   },
   "outputs": [
    {
     "data": {
      "image/png": "[encoded data removed]",
      "text/plain": [
       "<Figure size 1000x600 with 1 Axes>"
      ]
     },
     "metadata": {},
     "output_type": "display_data"
    },
    {
     "name": "stdout",
     "output_type": "stream",
     "text": [
      "Purchased             False  True \n",
      "geoNetwork.continent              \n",
      "(not set)               127      9\n",
      "Africa                 1733     14\n",
      "Americas              46345  23511\n",
      "Asia                  22127    257\n",
      "Europe                20130    164\n",
      "Oceania                1576     30\n"
     ]
    }
   ],
   "source": [
    "counts = temp_df.groupby(['geoNetwork.continent', 'Purchased']).size().unstack(fill_value=0)\n",
    "\n",
    "counts.plot(kind='bar', figsize=(10, 6), color=['orange', 'blue'])\n",
    "plt.title('Purchase Distribution per geoNetwork.continent')\n",
    "plt.xlabel('geoNetwork.continent')\n",
    "plt.ylabel('Number of People')\n",
    "plt.xticks(rotation=45)\n",
    "plt.legend(['Not Purchased', 'Purchased'])\n",
    "plt.tight_layout()\n",
    "plt.show()\n",
    "print(counts)"
   ]
  },
  {
   "cell_type": "code",
   "execution_count": 31,
   "id": "0382ba59",
   "metadata": {
    "execution": {
     "iopub.execute_input": "2025-08-05T17:57:50.632516Z",
     "iopub.status.busy": "2025-08-05T17:57:50.632193Z",
     "iopub.status.idle": "2025-08-05T17:57:50.638275Z",
     "shell.execute_reply": "2025-08-05T17:57:50.637365Z"
    },
    "papermill": {
     "duration": 0.029545,
     "end_time": "2025-08-05T17:57:50.639629",
     "exception": false,
     "start_time": "2025-08-05T17:57:50.610084",
     "status": "completed"
    },
    "tags": []
   },
   "outputs": [
    {
     "name": "stdout",
     "output_type": "stream",
     "text": [
      "Percentage wise\n",
      "\n",
      "geoNetwork.continent\n",
      "(not set)     6.617647\n",
      "Africa        0.801374\n",
      "Americas     33.656379\n",
      "Asia          1.148142\n",
      "Europe        0.808121\n",
      "Oceania       1.867995\n",
      "dtype: float64\n"
     ]
    }
   ],
   "source": [
    "print(\"Percentage wise\\n\")\n",
    "print(counts[True]/(counts[True]+counts[False])*100)"
   ]
  },
  {
   "cell_type": "markdown",
   "id": "147e4e18",
   "metadata": {
    "papermill": {
     "duration": 0.020751,
     "end_time": "2025-08-05T17:57:50.681923",
     "exception": false,
     "start_time": "2025-08-05T17:57:50.661172",
     "status": "completed"
    },
    "tags": []
   },
   "source": [
    "### 5.2.4. geoNetwork.networkDomain"
   ]
  },
  {
   "cell_type": "code",
   "execution_count": 32,
   "id": "825cf778",
   "metadata": {
    "execution": {
     "iopub.execute_input": "2025-08-05T17:57:50.725354Z",
     "iopub.status.busy": "2025-08-05T17:57:50.725032Z",
     "iopub.status.idle": "2025-08-05T17:57:50.948553Z",
     "shell.execute_reply": "2025-08-05T17:57:50.947752Z"
    },
    "papermill": {
     "duration": 0.24715,
     "end_time": "2025-08-05T17:57:50.950282",
     "exception": false,
     "start_time": "2025-08-05T17:57:50.703132",
     "status": "completed"
    },
    "tags": []
   },
   "outputs": [
    {
     "data": {
      "image/png": "[encoded data removed]",
      "text/plain": [
       "<Figure size 1000x600 with 1 Axes>"
      ]
     },
     "metadata": {},
     "output_type": "display_data"
    },
    {
     "name": "stdout",
     "output_type": "stream",
     "text": [
      "Purchased                 False  True \n",
      "geoNetwork.networkDomain              \n",
      "domain1                   30754   8041\n",
      "domain2                   30604   8015\n",
      "domain3                   30680   7929\n"
     ]
    }
   ],
   "source": [
    "counts = temp_df.groupby(['geoNetwork.networkDomain', 'Purchased']).size().unstack(fill_value=0)\n",
    "\n",
    "counts.plot(kind='bar', figsize=(10, 6), color=['orange', 'blue'])\n",
    "plt.title('Purchase Distribution per geoNetwork.networkDomain')\n",
    "plt.xlabel('geoNetwork.networkDomain')\n",
    "plt.ylabel('Number of People')\n",
    "plt.xticks(rotation=45)\n",
    "plt.legend(['Not Purchased', 'Purchased'])\n",
    "plt.tight_layout()\n",
    "plt.show()\n",
    "print(counts)"
   ]
  },
  {
   "cell_type": "code",
   "execution_count": 33,
   "id": "4797c4cc",
   "metadata": {
    "execution": {
     "iopub.execute_input": "2025-08-05T17:57:50.997124Z",
     "iopub.status.busy": "2025-08-05T17:57:50.996815Z",
     "iopub.status.idle": "2025-08-05T17:57:51.003095Z",
     "shell.execute_reply": "2025-08-05T17:57:51.002076Z"
    },
    "papermill": {
     "duration": 0.030981,
     "end_time": "2025-08-05T17:57:51.004503",
     "exception": false,
     "start_time": "2025-08-05T17:57:50.973522",
     "status": "completed"
    },
    "tags": []
   },
   "outputs": [
    {
     "name": "stdout",
     "output_type": "stream",
     "text": [
      "Percentage wise\n",
      "\n",
      "geoNetwork.networkDomain\n",
      "domain1    20.726898\n",
      "domain2    20.754033\n",
      "domain3    20.536662\n",
      "dtype: float64\n"
     ]
    }
   ],
   "source": [
    "print(\"Percentage wise\\n\")\n",
    "print(counts[True]/(counts[True]+counts[False])*100)"
   ]
  },
  {
   "cell_type": "markdown",
   "id": "204202f0",
   "metadata": {
    "papermill": {
     "duration": 0.021629,
     "end_time": "2025-08-05T17:57:51.048123",
     "exception": false,
     "start_time": "2025-08-05T17:57:51.026494",
     "status": "completed"
    },
    "tags": []
   },
   "source": [
    "### 5.2.5. userChannel"
   ]
  },
  {
   "cell_type": "code",
   "execution_count": 34,
   "id": "5d938520",
   "metadata": {
    "execution": {
     "iopub.execute_input": "2025-08-05T17:57:51.094033Z",
     "iopub.status.busy": "2025-08-05T17:57:51.093714Z",
     "iopub.status.idle": "2025-08-05T17:57:51.361890Z",
     "shell.execute_reply": "2025-08-05T17:57:51.361077Z"
    },
    "papermill": {
     "duration": 0.293878,
     "end_time": "2025-08-05T17:57:51.364201",
     "exception": false,
     "start_time": "2025-08-05T17:57:51.070323",
     "status": "completed"
    },
    "tags": []
   },
   "outputs": [
    {
     "data": {
      "image/png": "[encoded data removed]",
      "text/plain": [
       "<Figure size 1000x600 with 1 Axes>"
      ]
     },
     "metadata": {},
     "output_type": "display_data"
    },
    {
     "name": "stdout",
     "output_type": "stream",
     "text": [
      "Purchased       False  True \n",
      "userChannel                 \n",
      "(Other)             8      2\n",
      "Affiliates       1757     20\n",
      "Direct          14635   4251\n",
      "Display          2028    273\n",
      "Organic Search  39798   7127\n",
      "Paid Search      2443    963\n",
      "Referral        10790  11142\n",
      "Social          20579    207\n"
     ]
    }
   ],
   "source": [
    "counts = temp_df.groupby(['userChannel', 'Purchased']).size().unstack(fill_value=0)\n",
    "\n",
    "counts.plot(kind='bar', figsize=(10, 6), color=['orange', 'blue'])\n",
    "plt.title('Purchase Distribution per userChannel')\n",
    "plt.xlabel('userChannel')\n",
    "plt.ylabel('Number of People')\n",
    "plt.xticks(rotation=45)\n",
    "plt.legend(['Not Purchased', 'Purchased'])\n",
    "plt.tight_layout()\n",
    "plt.show()\n",
    "print(counts)"
   ]
  },
  {
   "cell_type": "code",
   "execution_count": 35,
   "id": "fa15d89a",
   "metadata": {
    "execution": {
     "iopub.execute_input": "2025-08-05T17:57:51.412514Z",
     "iopub.status.busy": "2025-08-05T17:57:51.411842Z",
     "iopub.status.idle": "2025-08-05T17:57:51.417828Z",
     "shell.execute_reply": "2025-08-05T17:57:51.417081Z"
    },
    "papermill": {
     "duration": 0.031,
     "end_time": "2025-08-05T17:57:51.419123",
     "exception": false,
     "start_time": "2025-08-05T17:57:51.388123",
     "status": "completed"
    },
    "tags": []
   },
   "outputs": [
    {
     "name": "stdout",
     "output_type": "stream",
     "text": [
      "Percentage wise\n",
      "\n",
      "userChannel\n",
      "(Other)           20.000000\n",
      "Affiliates         1.125492\n",
      "Direct            22.508737\n",
      "Display           11.864407\n",
      "Organic Search    15.188066\n",
      "Paid Search       28.273635\n",
      "Referral          50.802480\n",
      "Social             0.995863\n",
      "dtype: float64\n"
     ]
    }
   ],
   "source": [
    "print(\"Percentage wise\\n\")\n",
    "print(counts[True]/(counts[True]+counts[False])*100)"
   ]
  },
  {
   "cell_type": "markdown",
   "id": "5a824132",
   "metadata": {
    "papermill": {
     "duration": 0.022481,
     "end_time": "2025-08-05T17:57:51.464626",
     "exception": false,
     "start_time": "2025-08-05T17:57:51.442145",
     "status": "completed"
    },
    "tags": []
   },
   "source": [
    "### 5.2.6. deviceType"
   ]
  },
  {
   "cell_type": "code",
   "execution_count": 36,
   "id": "f4914aee",
   "metadata": {
    "execution": {
     "iopub.execute_input": "2025-08-05T17:57:51.512423Z",
     "iopub.status.busy": "2025-08-05T17:57:51.512109Z",
     "iopub.status.idle": "2025-08-05T17:57:51.729214Z",
     "shell.execute_reply": "2025-08-05T17:57:51.728343Z"
    },
    "papermill": {
     "duration": 0.243596,
     "end_time": "2025-08-05T17:57:51.731278",
     "exception": false,
     "start_time": "2025-08-05T17:57:51.487682",
     "status": "completed"
    },
    "tags": []
   },
   "outputs": [
    {
     "data": {
      "image/png": "[encoded data removed]",
      "text/plain": [
       "<Figure size 1000x600 with 1 Axes>"
      ]
     },
     "metadata": {},
     "output_type": "display_data"
    },
    {
     "name": "stdout",
     "output_type": "stream",
     "text": [
      "Purchased   False  True \n",
      "deviceType              \n",
      "desktop     64596  21884\n",
      "mobile      24080   1770\n",
      "tablet       3362    331\n"
     ]
    }
   ],
   "source": [
    "counts = temp_df.groupby(['deviceType', 'Purchased']).size().unstack(fill_value=0)\n",
    "\n",
    "counts.plot(kind='bar', figsize=(10, 6), color=['orange', 'blue'])\n",
    "plt.title('Purchase Distribution per deviceType')\n",
    "plt.xlabel('deviceType')\n",
    "plt.ylabel('Number of People')\n",
    "plt.xticks(rotation=45)\n",
    "plt.legend(['Not Purchased', 'Purchased'])\n",
    "plt.tight_layout()\n",
    "plt.show()\n",
    "print(counts)"
   ]
  },
  {
   "cell_type": "code",
   "execution_count": 37,
   "id": "86a87f87",
   "metadata": {
    "execution": {
     "iopub.execute_input": "2025-08-05T17:57:51.779506Z",
     "iopub.status.busy": "2025-08-05T17:57:51.779232Z",
     "iopub.status.idle": "2025-08-05T17:57:51.785251Z",
     "shell.execute_reply": "2025-08-05T17:57:51.784207Z"
    },
    "papermill": {
     "duration": 0.031882,
     "end_time": "2025-08-05T17:57:51.786607",
     "exception": false,
     "start_time": "2025-08-05T17:57:51.754725",
     "status": "completed"
    },
    "tags": []
   },
   "outputs": [
    {
     "name": "stdout",
     "output_type": "stream",
     "text": [
      "Percentage wise\n",
      "\n",
      "deviceType\n",
      "desktop    25.305273\n",
      "mobile      6.847195\n",
      "tablet      8.962903\n",
      "dtype: float64\n"
     ]
    }
   ],
   "source": [
    "print(\"Percentage wise\\n\")\n",
    "print(counts[True]/(counts[True]+counts[False])*100)"
   ]
  },
  {
   "cell_type": "markdown",
   "id": "88565dc0",
   "metadata": {
    "papermill": {
     "duration": 0.023171,
     "end_time": "2025-08-05T17:57:51.833638",
     "exception": false,
     "start_time": "2025-08-05T17:57:51.810467",
     "status": "completed"
    },
    "tags": []
   },
   "source": [
    "# 6. Data Preprocessing"
   ]
  },
  {
   "cell_type": "code",
   "execution_count": 38,
   "id": "31339f69",
   "metadata": {
    "execution": {
     "iopub.execute_input": "2025-08-05T17:57:51.882026Z",
     "iopub.status.busy": "2025-08-05T17:57:51.881393Z",
     "iopub.status.idle": "2025-08-05T17:57:51.891717Z",
     "shell.execute_reply": "2025-08-05T17:57:51.890918Z"
    },
    "papermill": {
     "duration": 0.036091,
     "end_time": "2025-08-05T17:57:51.893251",
     "exception": false,
     "start_time": "2025-08-05T17:57:51.857160",
     "status": "completed"
    },
    "tags": []
   },
   "outputs": [
    {
     "data": {
      "text/plain": [
       "(116023, 13)"
      ]
     },
     "execution_count": 38,
     "metadata": {},
     "output_type": "execute_result"
    }
   ],
   "source": [
    "X_train_num=X[num_cols]\n",
    "X_train_num.shape"
   ]
  },
  {
   "cell_type": "code",
   "execution_count": 39,
   "id": "9ee1c086",
   "metadata": {
    "execution": {
     "iopub.execute_input": "2025-08-05T17:57:51.942817Z",
     "iopub.status.busy": "2025-08-05T17:57:51.942555Z",
     "iopub.status.idle": "2025-08-05T17:57:51.961687Z",
     "shell.execute_reply": "2025-08-05T17:57:51.960939Z"
    },
    "papermill": {
     "duration": 0.045215,
     "end_time": "2025-08-05T17:57:51.963264",
     "exception": false,
     "start_time": "2025-08-05T17:57:51.918049",
     "status": "completed"
    },
    "tags": []
   },
   "outputs": [
    {
     "data": {
      "text/plain": [
       "userId                                      0\n",
       "gclIdPresent                                0\n",
       "sessionNumber                               0\n",
       "totals.visits                               0\n",
       "sessionId                                   0\n",
       "trafficSource.adwordsClickInfo.page    111742\n",
       "pageViews                                   8\n",
       "locationZone                                0\n",
       "totals.bounces                          68875\n",
       "date                                        0\n",
       "totalHits                                   0\n",
       "sessionStart                                0\n",
       "new_visits                              35505\n",
       "dtype: int64"
      ]
     },
     "execution_count": 39,
     "metadata": {},
     "output_type": "execute_result"
    }
   ],
   "source": [
    "X_train_num.isna().sum()"
   ]
  },
  {
   "cell_type": "code",
   "execution_count": 40,
   "id": "22f031db",
   "metadata": {
    "execution": {
     "iopub.execute_input": "2025-08-05T17:57:52.013948Z",
     "iopub.status.busy": "2025-08-05T17:57:52.013668Z",
     "iopub.status.idle": "2025-08-05T17:57:52.025038Z",
     "shell.execute_reply": "2025-08-05T17:57:52.024221Z"
    },
    "papermill": {
     "duration": 0.037291,
     "end_time": "2025-08-05T17:57:52.026456",
     "exception": false,
     "start_time": "2025-08-05T17:57:51.989165",
     "status": "completed"
    },
    "tags": []
   },
   "outputs": [
    {
     "data": {
      "text/plain": [
       "(116023, 12)"
      ]
     },
     "execution_count": 40,
     "metadata": {},
     "output_type": "execute_result"
    }
   ],
   "source": [
    "X_train_num =X_train_num.drop(columns=['trafficSource.adwordsClickInfo.page'])\n",
    "X_train_num.shape"
   ]
  },
  {
   "cell_type": "code",
   "execution_count": 41,
   "id": "5d7f81ed",
   "metadata": {
    "execution": {
     "iopub.execute_input": "2025-08-05T17:57:52.076809Z",
     "iopub.status.busy": "2025-08-05T17:57:52.076508Z",
     "iopub.status.idle": "2025-08-05T17:57:52.126842Z",
     "shell.execute_reply": "2025-08-05T17:57:52.126058Z"
    },
    "papermill": {
     "duration": 0.077459,
     "end_time": "2025-08-05T17:57:52.128211",
     "exception": false,
     "start_time": "2025-08-05T17:57:52.050752",
     "status": "completed"
    },
    "tags": []
   },
   "outputs": [
    {
     "data": {
      "text/html": [
       "<div>\n",
       "<style scoped>\n",
       "    .dataframe tbody tr th:only-of-type {\n",
       "        vertical-align: middle;\n",
       "    }\n",
       "\n",
       "    .dataframe tbody tr th {\n",
       "        vertical-align: top;\n",
       "    }\n",
       "\n",
       "    .dataframe thead th {\n",
       "        text-align: right;\n",
       "    }\n",
       "</style>\n",
       "<table border=\"1\" class=\"dataframe\">\n",
       "  <thead>\n",
       "    <tr style=\"text-align: right;\">\n",
       "      <th></th>\n",
       "      <th>pageviews_impute__pageViews</th>\n",
       "      <th>zero_impute__totals.bounces</th>\n",
       "      <th>zero_impute__new_visits</th>\n",
       "      <th>remainder__userId</th>\n",
       "      <th>remainder__gclIdPresent</th>\n",
       "      <th>remainder__sessionNumber</th>\n",
       "      <th>remainder__totals.visits</th>\n",
       "      <th>remainder__sessionId</th>\n",
       "      <th>remainder__locationZone</th>\n",
       "      <th>remainder__date</th>\n",
       "      <th>remainder__totalHits</th>\n",
       "      <th>remainder__sessionStart</th>\n",
       "    </tr>\n",
       "  </thead>\n",
       "  <tbody>\n",
       "    <tr>\n",
       "      <th>0</th>\n",
       "      <td>1.0</td>\n",
       "      <td>1.0</td>\n",
       "      <td>1.0</td>\n",
       "      <td>61421</td>\n",
       "      <td>0</td>\n",
       "      <td>1</td>\n",
       "      <td>1</td>\n",
       "      <td>1500100799</td>\n",
       "      <td>8</td>\n",
       "      <td>20170714</td>\n",
       "      <td>1</td>\n",
       "      <td>1500100799</td>\n",
       "    </tr>\n",
       "    <tr>\n",
       "      <th>1</th>\n",
       "      <td>1.0</td>\n",
       "      <td>1.0</td>\n",
       "      <td>1.0</td>\n",
       "      <td>72287</td>\n",
       "      <td>0</td>\n",
       "      <td>1</td>\n",
       "      <td>1</td>\n",
       "      <td>1495262065</td>\n",
       "      <td>8</td>\n",
       "      <td>20170519</td>\n",
       "      <td>1</td>\n",
       "      <td>1495262065</td>\n",
       "    </tr>\n",
       "    <tr>\n",
       "      <th>2</th>\n",
       "      <td>6.0</td>\n",
       "      <td>0.0</td>\n",
       "      <td>0.0</td>\n",
       "      <td>25180</td>\n",
       "      <td>0</td>\n",
       "      <td>2</td>\n",
       "      <td>1</td>\n",
       "      <td>1508510328</td>\n",
       "      <td>8</td>\n",
       "      <td>20171020</td>\n",
       "      <td>6</td>\n",
       "      <td>1508510328</td>\n",
       "    </tr>\n",
       "    <tr>\n",
       "      <th>3</th>\n",
       "      <td>1.0</td>\n",
       "      <td>1.0</td>\n",
       "      <td>1.0</td>\n",
       "      <td>41295</td>\n",
       "      <td>0</td>\n",
       "      <td>1</td>\n",
       "      <td>1</td>\n",
       "      <td>1483431838</td>\n",
       "      <td>8</td>\n",
       "      <td>20170103</td>\n",
       "      <td>1</td>\n",
       "      <td>1483431838</td>\n",
       "    </tr>\n",
       "    <tr>\n",
       "      <th>4</th>\n",
       "      <td>54.0</td>\n",
       "      <td>0.0</td>\n",
       "      <td>1.0</td>\n",
       "      <td>113697</td>\n",
       "      <td>0</td>\n",
       "      <td>1</td>\n",
       "      <td>1</td>\n",
       "      <td>1475804633</td>\n",
       "      <td>8</td>\n",
       "      <td>20161006</td>\n",
       "      <td>66</td>\n",
       "      <td>1475804633</td>\n",
       "    </tr>\n",
       "    <tr>\n",
       "      <th>...</th>\n",
       "      <td>...</td>\n",
       "      <td>...</td>\n",
       "      <td>...</td>\n",
       "      <td>...</td>\n",
       "      <td>...</td>\n",
       "      <td>...</td>\n",
       "      <td>...</td>\n",
       "      <td>...</td>\n",
       "      <td>...</td>\n",
       "      <td>...</td>\n",
       "      <td>...</td>\n",
       "      <td>...</td>\n",
       "    </tr>\n",
       "    <tr>\n",
       "      <th>116018</th>\n",
       "      <td>26.0</td>\n",
       "      <td>0.0</td>\n",
       "      <td>1.0</td>\n",
       "      <td>109014</td>\n",
       "      <td>0</td>\n",
       "      <td>1</td>\n",
       "      <td>1</td>\n",
       "      <td>1500318402</td>\n",
       "      <td>8</td>\n",
       "      <td>20170717</td>\n",
       "      <td>28</td>\n",
       "      <td>1500318402</td>\n",
       "    </tr>\n",
       "    <tr>\n",
       "      <th>116019</th>\n",
       "      <td>1.0</td>\n",
       "      <td>1.0</td>\n",
       "      <td>1.0</td>\n",
       "      <td>66111</td>\n",
       "      <td>0</td>\n",
       "      <td>1</td>\n",
       "      <td>1</td>\n",
       "      <td>1478624150</td>\n",
       "      <td>8</td>\n",
       "      <td>20161108</td>\n",
       "      <td>1</td>\n",
       "      <td>1478624150</td>\n",
       "    </tr>\n",
       "    <tr>\n",
       "      <th>116020</th>\n",
       "      <td>1.0</td>\n",
       "      <td>1.0</td>\n",
       "      <td>0.0</td>\n",
       "      <td>97614</td>\n",
       "      <td>0</td>\n",
       "      <td>2</td>\n",
       "      <td>1</td>\n",
       "      <td>1470384216</td>\n",
       "      <td>8</td>\n",
       "      <td>20160805</td>\n",
       "      <td>1</td>\n",
       "      <td>1470384216</td>\n",
       "    </tr>\n",
       "    <tr>\n",
       "      <th>116021</th>\n",
       "      <td>2.0</td>\n",
       "      <td>0.0</td>\n",
       "      <td>1.0</td>\n",
       "      <td>71050</td>\n",
       "      <td>0</td>\n",
       "      <td>1</td>\n",
       "      <td>1</td>\n",
       "      <td>1506953297</td>\n",
       "      <td>8</td>\n",
       "      <td>20171002</td>\n",
       "      <td>2</td>\n",
       "      <td>1506953297</td>\n",
       "    </tr>\n",
       "    <tr>\n",
       "      <th>116022</th>\n",
       "      <td>73.0</td>\n",
       "      <td>0.0</td>\n",
       "      <td>0.0</td>\n",
       "      <td>39773</td>\n",
       "      <td>0</td>\n",
       "      <td>4</td>\n",
       "      <td>1</td>\n",
       "      <td>1501474532</td>\n",
       "      <td>8</td>\n",
       "      <td>20170730</td>\n",
       "      <td>102</td>\n",
       "      <td>1501474532</td>\n",
       "    </tr>\n",
       "  </tbody>\n",
       "</table>\n",
       "<p>116023 rows × 12 columns</p>\n",
       "</div>"
      ],
      "text/plain": [
       "        pageviews_impute__pageViews  zero_impute__totals.bounces  \\\n",
       "0                               1.0                          1.0   \n",
       "1                               1.0                          1.0   \n",
       "2                               6.0                          0.0   \n",
       "3                               1.0                          1.0   \n",
       "4                              54.0                          0.0   \n",
       "...                             ...                          ...   \n",
       "116018                         26.0                          0.0   \n",
       "116019                          1.0                          1.0   \n",
       "116020                          1.0                          1.0   \n",
       "116021                          2.0                          0.0   \n",
       "116022                         73.0                          0.0   \n",
       "\n",
       "        zero_impute__new_visits  remainder__userId  remainder__gclIdPresent  \\\n",
       "0                           1.0              61421                        0   \n",
       "1                           1.0              72287                        0   \n",
       "2                           0.0              25180                        0   \n",
       "3                           1.0              41295                        0   \n",
       "4                           1.0             113697                        0   \n",
       "...                         ...                ...                      ...   \n",
       "116018                      1.0             109014                        0   \n",
       "116019                      1.0              66111                        0   \n",
       "116020                      0.0              97614                        0   \n",
       "116021                      1.0              71050                        0   \n",
       "116022                      0.0              39773                        0   \n",
       "\n",
       "        remainder__sessionNumber  remainder__totals.visits  \\\n",
       "0                              1                         1   \n",
       "1                              1                         1   \n",
       "2                              2                         1   \n",
       "3                              1                         1   \n",
       "4                              1                         1   \n",
       "...                          ...                       ...   \n",
       "116018                         1                         1   \n",
       "116019                         1                         1   \n",
       "116020                         2                         1   \n",
       "116021                         1                         1   \n",
       "116022                         4                         1   \n",
       "\n",
       "        remainder__sessionId  remainder__locationZone  remainder__date  \\\n",
       "0                 1500100799                        8         20170714   \n",
       "1                 1495262065                        8         20170519   \n",
       "2                 1508510328                        8         20171020   \n",
       "3                 1483431838                        8         20170103   \n",
       "4                 1475804633                        8         20161006   \n",
       "...                      ...                      ...              ...   \n",
       "116018            1500318402                        8         20170717   \n",
       "116019            1478624150                        8         20161108   \n",
       "116020            1470384216                        8         20160805   \n",
       "116021            1506953297                        8         20171002   \n",
       "116022            1501474532                        8         20170730   \n",
       "\n",
       "        remainder__totalHits  remainder__sessionStart  \n",
       "0                          1               1500100799  \n",
       "1                          1               1495262065  \n",
       "2                          6               1508510328  \n",
       "3                          1               1483431838  \n",
       "4                         66               1475804633  \n",
       "...                      ...                      ...  \n",
       "116018                    28               1500318402  \n",
       "116019                     1               1478624150  \n",
       "116020                     1               1470384216  \n",
       "116021                     2               1506953297  \n",
       "116022                   102               1501474532  \n",
       "\n",
       "[116023 rows x 12 columns]"
      ]
     },
     "execution_count": 41,
     "metadata": {},
     "output_type": "execute_result"
    }
   ],
   "source": [
    "zero_imputer = Pipeline([\n",
    "    ('imputer', SimpleImputer(strategy='constant', fill_value=0))\n",
    "])\n",
    "\n",
    "pageviews_imputer = Pipeline([\n",
    "    ('imputer', SimpleImputer(strategy='median'))\n",
    "])\n",
    "\n",
    "preprocessor = ColumnTransformer(\n",
    "    transformers=[\n",
    "        ('pageviews_impute', pageviews_imputer, ['pageViews']),\n",
    "        ('zero_impute', zero_imputer, ['totals.bounces', 'new_visits'])\n",
    "    ],\n",
    "    remainder='passthrough'\n",
    ").set_output(transform=\"pandas\")\n",
    "\n",
    "X_train_processed = preprocessor.fit_transform(X_train_num)\n",
    "X_train_processed"
   ]
  },
  {
   "cell_type": "code",
   "execution_count": 42,
   "id": "84e8b730",
   "metadata": {
    "execution": {
     "iopub.execute_input": "2025-08-05T17:57:52.177605Z",
     "iopub.status.busy": "2025-08-05T17:57:52.177327Z",
     "iopub.status.idle": "2025-08-05T17:57:52.191667Z",
     "shell.execute_reply": "2025-08-05T17:57:52.190872Z"
    },
    "papermill": {
     "duration": 0.040397,
     "end_time": "2025-08-05T17:57:52.192895",
     "exception": false,
     "start_time": "2025-08-05T17:57:52.152498",
     "status": "completed"
    },
    "tags": []
   },
   "outputs": [
    {
     "data": {
      "text/html": [
       "<div>\n",
       "<style scoped>\n",
       "    .dataframe tbody tr th:only-of-type {\n",
       "        vertical-align: middle;\n",
       "    }\n",
       "\n",
       "    .dataframe tbody tr th {\n",
       "        vertical-align: top;\n",
       "    }\n",
       "\n",
       "    .dataframe thead th {\n",
       "        text-align: right;\n",
       "    }\n",
       "</style>\n",
       "<table border=\"1\" class=\"dataframe\">\n",
       "  <thead>\n",
       "    <tr style=\"text-align: right;\">\n",
       "      <th></th>\n",
       "      <th>pageViews</th>\n",
       "      <th>totals.bounces</th>\n",
       "      <th>new_visits</th>\n",
       "      <th>userId</th>\n",
       "      <th>gclIdPresent</th>\n",
       "      <th>sessionNumber</th>\n",
       "      <th>totals.visits</th>\n",
       "      <th>sessionId</th>\n",
       "      <th>locationZone</th>\n",
       "      <th>date</th>\n",
       "      <th>totalHits</th>\n",
       "      <th>sessionStart</th>\n",
       "    </tr>\n",
       "  </thead>\n",
       "  <tbody>\n",
       "    <tr>\n",
       "      <th>0</th>\n",
       "      <td>1.0</td>\n",
       "      <td>1.0</td>\n",
       "      <td>1.0</td>\n",
       "      <td>61421</td>\n",
       "      <td>0</td>\n",
       "      <td>1</td>\n",
       "      <td>1</td>\n",
       "      <td>1500100799</td>\n",
       "      <td>8</td>\n",
       "      <td>20170714</td>\n",
       "      <td>1</td>\n",
       "      <td>1500100799</td>\n",
       "    </tr>\n",
       "    <tr>\n",
       "      <th>1</th>\n",
       "      <td>1.0</td>\n",
       "      <td>1.0</td>\n",
       "      <td>1.0</td>\n",
       "      <td>72287</td>\n",
       "      <td>0</td>\n",
       "      <td>1</td>\n",
       "      <td>1</td>\n",
       "      <td>1495262065</td>\n",
       "      <td>8</td>\n",
       "      <td>20170519</td>\n",
       "      <td>1</td>\n",
       "      <td>1495262065</td>\n",
       "    </tr>\n",
       "    <tr>\n",
       "      <th>2</th>\n",
       "      <td>6.0</td>\n",
       "      <td>0.0</td>\n",
       "      <td>0.0</td>\n",
       "      <td>25180</td>\n",
       "      <td>0</td>\n",
       "      <td>2</td>\n",
       "      <td>1</td>\n",
       "      <td>1508510328</td>\n",
       "      <td>8</td>\n",
       "      <td>20171020</td>\n",
       "      <td>6</td>\n",
       "      <td>1508510328</td>\n",
       "    </tr>\n",
       "    <tr>\n",
       "      <th>3</th>\n",
       "      <td>1.0</td>\n",
       "      <td>1.0</td>\n",
       "      <td>1.0</td>\n",
       "      <td>41295</td>\n",
       "      <td>0</td>\n",
       "      <td>1</td>\n",
       "      <td>1</td>\n",
       "      <td>1483431838</td>\n",
       "      <td>8</td>\n",
       "      <td>20170103</td>\n",
       "      <td>1</td>\n",
       "      <td>1483431838</td>\n",
       "    </tr>\n",
       "    <tr>\n",
       "      <th>4</th>\n",
       "      <td>54.0</td>\n",
       "      <td>0.0</td>\n",
       "      <td>1.0</td>\n",
       "      <td>113697</td>\n",
       "      <td>0</td>\n",
       "      <td>1</td>\n",
       "      <td>1</td>\n",
       "      <td>1475804633</td>\n",
       "      <td>8</td>\n",
       "      <td>20161006</td>\n",
       "      <td>66</td>\n",
       "      <td>1475804633</td>\n",
       "    </tr>\n",
       "    <tr>\n",
       "      <th>...</th>\n",
       "      <td>...</td>\n",
       "      <td>...</td>\n",
       "      <td>...</td>\n",
       "      <td>...</td>\n",
       "      <td>...</td>\n",
       "      <td>...</td>\n",
       "      <td>...</td>\n",
       "      <td>...</td>\n",
       "      <td>...</td>\n",
       "      <td>...</td>\n",
       "      <td>...</td>\n",
       "      <td>...</td>\n",
       "    </tr>\n",
       "    <tr>\n",
       "      <th>116018</th>\n",
       "      <td>26.0</td>\n",
       "      <td>0.0</td>\n",
       "      <td>1.0</td>\n",
       "      <td>109014</td>\n",
       "      <td>0</td>\n",
       "      <td>1</td>\n",
       "      <td>1</td>\n",
       "      <td>1500318402</td>\n",
       "      <td>8</td>\n",
       "      <td>20170717</td>\n",
       "      <td>28</td>\n",
       "      <td>1500318402</td>\n",
       "    </tr>\n",
       "    <tr>\n",
       "      <th>116019</th>\n",
       "      <td>1.0</td>\n",
       "      <td>1.0</td>\n",
       "      <td>1.0</td>\n",
       "      <td>66111</td>\n",
       "      <td>0</td>\n",
       "      <td>1</td>\n",
       "      <td>1</td>\n",
       "      <td>1478624150</td>\n",
       "      <td>8</td>\n",
       "      <td>20161108</td>\n",
       "      <td>1</td>\n",
       "      <td>1478624150</td>\n",
       "    </tr>\n",
       "    <tr>\n",
       "      <th>116020</th>\n",
       "      <td>1.0</td>\n",
       "      <td>1.0</td>\n",
       "      <td>0.0</td>\n",
       "      <td>97614</td>\n",
       "      <td>0</td>\n",
       "      <td>2</td>\n",
       "      <td>1</td>\n",
       "      <td>1470384216</td>\n",
       "      <td>8</td>\n",
       "      <td>20160805</td>\n",
       "      <td>1</td>\n",
       "      <td>1470384216</td>\n",
       "    </tr>\n",
       "    <tr>\n",
       "      <th>116021</th>\n",
       "      <td>2.0</td>\n",
       "      <td>0.0</td>\n",
       "      <td>1.0</td>\n",
       "      <td>71050</td>\n",
       "      <td>0</td>\n",
       "      <td>1</td>\n",
       "      <td>1</td>\n",
       "      <td>1506953297</td>\n",
       "      <td>8</td>\n",
       "      <td>20171002</td>\n",
       "      <td>2</td>\n",
       "      <td>1506953297</td>\n",
       "    </tr>\n",
       "    <tr>\n",
       "      <th>116022</th>\n",
       "      <td>73.0</td>\n",
       "      <td>0.0</td>\n",
       "      <td>0.0</td>\n",
       "      <td>39773</td>\n",
       "      <td>0</td>\n",
       "      <td>4</td>\n",
       "      <td>1</td>\n",
       "      <td>1501474532</td>\n",
       "      <td>8</td>\n",
       "      <td>20170730</td>\n",
       "      <td>102</td>\n",
       "      <td>1501474532</td>\n",
       "    </tr>\n",
       "  </tbody>\n",
       "</table>\n",
       "<p>116023 rows × 12 columns</p>\n",
       "</div>"
      ],
      "text/plain": [
       "        pageViews  totals.bounces  new_visits  userId  gclIdPresent  \\\n",
       "0             1.0             1.0         1.0   61421             0   \n",
       "1             1.0             1.0         1.0   72287             0   \n",
       "2             6.0             0.0         0.0   25180             0   \n",
       "3             1.0             1.0         1.0   41295             0   \n",
       "4            54.0             0.0         1.0  113697             0   \n",
       "...           ...             ...         ...     ...           ...   \n",
       "116018       26.0             0.0         1.0  109014             0   \n",
       "116019        1.0             1.0         1.0   66111             0   \n",
       "116020        1.0             1.0         0.0   97614             0   \n",
       "116021        2.0             0.0         1.0   71050             0   \n",
       "116022       73.0             0.0         0.0   39773             0   \n",
       "\n",
       "        sessionNumber  totals.visits   sessionId  locationZone      date  \\\n",
       "0                   1              1  1500100799             8  20170714   \n",
       "1                   1              1  1495262065             8  20170519   \n",
       "2                   2              1  1508510328             8  20171020   \n",
       "3                   1              1  1483431838             8  20170103   \n",
       "4                   1              1  1475804633             8  20161006   \n",
       "...               ...            ...         ...           ...       ...   \n",
       "116018              1              1  1500318402             8  20170717   \n",
       "116019              1              1  1478624150             8  20161108   \n",
       "116020              2              1  1470384216             8  20160805   \n",
       "116021              1              1  1506953297             8  20171002   \n",
       "116022              4              1  1501474532             8  20170730   \n",
       "\n",
       "        totalHits  sessionStart  \n",
       "0               1    1500100799  \n",
       "1               1    1495262065  \n",
       "2               6    1508510328  \n",
       "3               1    1483431838  \n",
       "4              66    1475804633  \n",
       "...           ...           ...  \n",
       "116018         28    1500318402  \n",
       "116019          1    1478624150  \n",
       "116020          1    1470384216  \n",
       "116021          2    1506953297  \n",
       "116022        102    1501474532  \n",
       "\n",
       "[116023 rows x 12 columns]"
      ]
     },
     "execution_count": 42,
     "metadata": {},
     "output_type": "execute_result"
    }
   ],
   "source": [
    "X_train_processed.columns = [col.split(\"__\")[-1] for col in X_train_processed.columns]\n",
    "X_train_processed"
   ]
  },
  {
   "cell_type": "code",
   "execution_count": 43,
   "id": "828d9b41",
   "metadata": {
    "execution": {
     "iopub.execute_input": "2025-08-05T17:57:52.243615Z",
     "iopub.status.busy": "2025-08-05T17:57:52.243323Z",
     "iopub.status.idle": "2025-08-05T17:57:52.258344Z",
     "shell.execute_reply": "2025-08-05T17:57:52.257529Z"
    },
    "papermill": {
     "duration": 0.041875,
     "end_time": "2025-08-05T17:57:52.259761",
     "exception": false,
     "start_time": "2025-08-05T17:57:52.217886",
     "status": "completed"
    },
    "tags": []
   },
   "outputs": [
    {
     "data": {
      "text/plain": [
       "pageViews         0\n",
       "totals.bounces    0\n",
       "new_visits        0\n",
       "userId            0\n",
       "gclIdPresent      0\n",
       "sessionNumber     0\n",
       "totals.visits     0\n",
       "sessionId         0\n",
       "locationZone      0\n",
       "date              0\n",
       "totalHits         0\n",
       "sessionStart      0\n",
       "dtype: int64"
      ]
     },
     "execution_count": 43,
     "metadata": {},
     "output_type": "execute_result"
    }
   ],
   "source": [
    "X_train_processed.isna().sum()"
   ]
  },
  {
   "cell_type": "code",
   "execution_count": 44,
   "id": "5fd8a795",
   "metadata": {
    "execution": {
     "iopub.execute_input": "2025-08-05T17:57:52.312127Z",
     "iopub.status.busy": "2025-08-05T17:57:52.311803Z",
     "iopub.status.idle": "2025-08-05T17:57:52.330329Z",
     "shell.execute_reply": "2025-08-05T17:57:52.329100Z"
    },
    "papermill": {
     "duration": 0.045279,
     "end_time": "2025-08-05T17:57:52.331887",
     "exception": false,
     "start_time": "2025-08-05T17:57:52.286608",
     "status": "completed"
    },
    "tags": []
   },
   "outputs": [
    {
     "name": "stdout",
     "output_type": "stream",
     "text": [
      "(29006, 12)\n",
      "   pageViews  totals.bounces  new_visits  userId  gclIdPresent  sessionNumber  \\\n",
      "0       10.0             0.0         0.0   59555             0              2   \n",
      "1        9.0             0.0         1.0    6394             0              1   \n",
      "2        2.0             0.0         1.0   38969             0              1   \n",
      "3        3.0             0.0         0.0  120027             0             30   \n",
      "4        7.0             0.0         1.0   69453             0              1   \n",
      "\n",
      "   totals.visits   sessionId  locationZone      date  totalHits  sessionStart  \n",
      "0              1  1494262567             8  20170508         11    1494262567  \n",
      "1              1  1491433811             8  20170405          9    1491433811  \n",
      "2              1  1489001815             8  20170308          2    1489001815  \n",
      "3              1  1510593024             8  20171113          3    1510593024  \n",
      "4              1  1481559809             8  20161212          7    1481559809  \n"
     ]
    }
   ],
   "source": [
    "Final_test_test = Final_test[X_train_processed.columns]\n",
    "print(Final_test_test.shape)\n",
    "\n",
    "Final_test_processed=preprocessor.transform(Final_test_test)\n",
    "Final_test_processed.columns = [col.split(\"__\")[-1] for col in Final_test_processed.columns]\n",
    "print(Final_test_processed.head())\n"
   ]
  },
  {
   "cell_type": "code",
   "execution_count": 45,
   "id": "25e65019",
   "metadata": {
    "execution": {
     "iopub.execute_input": "2025-08-05T17:57:52.382695Z",
     "iopub.status.busy": "2025-08-05T17:57:52.382423Z",
     "iopub.status.idle": "2025-08-05T17:57:52.389852Z",
     "shell.execute_reply": "2025-08-05T17:57:52.389213Z"
    },
    "papermill": {
     "duration": 0.03439,
     "end_time": "2025-08-05T17:57:52.391086",
     "exception": false,
     "start_time": "2025-08-05T17:57:52.356696",
     "status": "completed"
    },
    "tags": []
   },
   "outputs": [
    {
     "data": {
      "text/plain": [
       "pageViews         0\n",
       "totals.bounces    0\n",
       "new_visits        0\n",
       "userId            0\n",
       "gclIdPresent      0\n",
       "sessionNumber     0\n",
       "totals.visits     0\n",
       "sessionId         0\n",
       "locationZone      0\n",
       "date              0\n",
       "totalHits         0\n",
       "sessionStart      0\n",
       "dtype: int64"
      ]
     },
     "execution_count": 45,
     "metadata": {},
     "output_type": "execute_result"
    }
   ],
   "source": [
    "Final_test_processed.isna().sum()"
   ]
  },
  {
   "cell_type": "markdown",
   "id": "25747451",
   "metadata": {
    "papermill": {
     "duration": 0.024819,
     "end_time": "2025-08-05T17:57:52.441047",
     "exception": false,
     "start_time": "2025-08-05T17:57:52.416228",
     "status": "completed"
    },
    "tags": []
   },
   "source": [
    "# 7. Feature Engineering"
   ]
  },
  {
   "cell_type": "code",
   "execution_count": 46,
   "id": "b3899a93",
   "metadata": {
    "execution": {
     "iopub.execute_input": "2025-08-05T17:57:52.491934Z",
     "iopub.status.busy": "2025-08-05T17:57:52.491637Z",
     "iopub.status.idle": "2025-08-05T17:57:52.558269Z",
     "shell.execute_reply": "2025-08-05T17:57:52.557285Z"
    },
    "papermill": {
     "duration": 0.09393,
     "end_time": "2025-08-05T17:57:52.559909",
     "exception": false,
     "start_time": "2025-08-05T17:57:52.465979",
     "status": "completed"
    },
    "tags": []
   },
   "outputs": [],
   "source": [
    "def create_date_features(df):\n",
    "    df_copy = df.copy()\n",
    "    df_copy['date'] = pd.to_datetime(df_copy['date'], format='%Y%m%d')\n",
    "\n",
    "    df_copy['dayofweek'] = df_copy['date'].dt.dayofweek\n",
    "    df_copy['month'] = df_copy['date'].dt.month\n",
    "    df_copy['day'] = df_copy['date'].dt.day\n",
    "    df_copy['year'] = df_copy['date'].dt.year\n",
    "    df_copy['is_weekend'] = df_copy['dayofweek'].isin([5, 6]).astype(int)\n",
    "\n",
    "    df_copy = df_copy.drop(columns=['date'])\n",
    "    return df_copy\n",
    "\n",
    "X_engineered = create_date_features(X_train_processed)\n",
    "X_final_test_engineered = create_date_features(Final_test_processed)"
   ]
  },
  {
   "cell_type": "code",
   "execution_count": 47,
   "id": "264fd403",
   "metadata": {
    "execution": {
     "iopub.execute_input": "2025-08-05T17:57:52.610367Z",
     "iopub.status.busy": "2025-08-05T17:57:52.610035Z",
     "iopub.status.idle": "2025-08-05T17:57:52.622560Z",
     "shell.execute_reply": "2025-08-05T17:57:52.621586Z"
    },
    "papermill": {
     "duration": 0.0394,
     "end_time": "2025-08-05T17:57:52.623971",
     "exception": false,
     "start_time": "2025-08-05T17:57:52.584571",
     "status": "completed"
    },
    "tags": []
   },
   "outputs": [
    {
     "name": "stdout",
     "output_type": "stream",
     "text": [
      "   pageViews  totals.bounces  new_visits  userId  gclIdPresent  sessionNumber  \\\n",
      "0        1.0             1.0         1.0   61421             0              1   \n",
      "1        1.0             1.0         1.0   72287             0              1   \n",
      "2        6.0             0.0         0.0   25180             0              2   \n",
      "3        1.0             1.0         1.0   41295             0              1   \n",
      "4       54.0             0.0         1.0  113697             0              1   \n",
      "\n",
      "   totals.visits   sessionId  locationZone  totalHits  sessionStart  \\\n",
      "0              1  1500100799             8          1    1500100799   \n",
      "1              1  1495262065             8          1    1495262065   \n",
      "2              1  1508510328             8          6    1508510328   \n",
      "3              1  1483431838             8          1    1483431838   \n",
      "4              1  1475804633             8         66    1475804633   \n",
      "\n",
      "   dayofweek  month  day  year  is_weekend  \n",
      "0          4      7   14  2017           0  \n",
      "1          4      5   19  2017           0  \n",
      "2          4     10   20  2017           0  \n",
      "3          1      1    3  2017           0  \n",
      "4          3     10    6  2016           0   (116023, 16)\n",
      "   pageViews  totals.bounces  new_visits  userId  gclIdPresent  sessionNumber  \\\n",
      "0       10.0             0.0         0.0   59555             0              2   \n",
      "1        9.0             0.0         1.0    6394             0              1   \n",
      "2        2.0             0.0         1.0   38969             0              1   \n",
      "3        3.0             0.0         0.0  120027             0             30   \n",
      "4        7.0             0.0         1.0   69453             0              1   \n",
      "\n",
      "   totals.visits   sessionId  locationZone  totalHits  sessionStart  \\\n",
      "0              1  1494262567             8         11    1494262567   \n",
      "1              1  1491433811             8          9    1491433811   \n",
      "2              1  1489001815             8          2    1489001815   \n",
      "3              1  1510593024             8          3    1510593024   \n",
      "4              1  1481559809             8          7    1481559809   \n",
      "\n",
      "   dayofweek  month  day  year  is_weekend  \n",
      "0          0      5    8  2017           0  \n",
      "1          2      4    5  2017           0  \n",
      "2          2      3    8  2017           0  \n",
      "3          0     11   13  2017           0  \n",
      "4          0     12   12  2016           0   (29006, 16)\n"
     ]
    }
   ],
   "source": [
    "print(X_engineered.head(),X_engineered.shape)\n",
    "print(X_final_test_engineered.head(),X_final_test_engineered.shape)"
   ]
  },
  {
   "cell_type": "markdown",
   "id": "a5ac4534",
   "metadata": {
    "papermill": {
     "duration": 0.024533,
     "end_time": "2025-08-05T17:57:52.673447",
     "exception": false,
     "start_time": "2025-08-05T17:57:52.648914",
     "status": "completed"
    },
    "tags": []
   },
   "source": [
    "# 8. Dataset Splitting"
   ]
  },
  {
   "cell_type": "code",
   "execution_count": 48,
   "id": "31812a9a",
   "metadata": {
    "execution": {
     "iopub.execute_input": "2025-08-05T17:57:52.724659Z",
     "iopub.status.busy": "2025-08-05T17:57:52.723984Z",
     "iopub.status.idle": "2025-08-05T17:57:52.753967Z",
     "shell.execute_reply": "2025-08-05T17:57:52.753122Z"
    },
    "papermill": {
     "duration": 0.057043,
     "end_time": "2025-08-05T17:57:52.755410",
     "exception": false,
     "start_time": "2025-08-05T17:57:52.698367",
     "status": "completed"
    },
    "tags": []
   },
   "outputs": [
    {
     "name": "stdout",
     "output_type": "stream",
     "text": [
      "Shape of X_train: (92818, 16)\n",
      "Shape of y_train: (92818,)\n",
      "Shape of X_val_test: (23205, 16)\n",
      "Shape of y_val_test: (23205,)\n"
     ]
    }
   ],
   "source": [
    "X_train, X_val_test, y_train, y_val_test = train_test_split(X_engineered, y, test_size=0.2, random_state=42)\n",
    "\n",
    "print(\"Shape of X_train:\", X_train.shape)\n",
    "print(\"Shape of y_train:\", y_train.shape)\n",
    "print(\"Shape of X_val_test:\", X_val_test.shape)\n",
    "print(\"Shape of y_val_test:\", y_val_test.shape)"
   ]
  },
  {
   "cell_type": "markdown",
   "id": "241db2c4",
   "metadata": {
    "papermill": {
     "duration": 0.024507,
     "end_time": "2025-08-05T17:57:52.805342",
     "exception": false,
     "start_time": "2025-08-05T17:57:52.780835",
     "status": "completed"
    },
    "tags": []
   },
   "source": [
    "# 9. Models"
   ]
  },
  {
   "cell_type": "markdown",
   "id": "c0061e25",
   "metadata": {
    "papermill": {
     "duration": 0.024574,
     "end_time": "2025-08-05T17:57:52.854773",
     "exception": false,
     "start_time": "2025-08-05T17:57:52.830199",
     "status": "completed"
    },
    "tags": []
   },
   "source": [
    "## 9.1. Linear Regression"
   ]
  },
  {
   "cell_type": "code",
   "execution_count": 49,
   "id": "1cb13b9e",
   "metadata": {
    "execution": {
     "iopub.execute_input": "2025-08-05T17:57:52.905661Z",
     "iopub.status.busy": "2025-08-05T17:57:52.904844Z",
     "iopub.status.idle": "2025-08-05T17:57:53.038399Z",
     "shell.execute_reply": "2025-08-05T17:57:53.036622Z"
    },
    "papermill": {
     "duration": 0.160815,
     "end_time": "2025-08-05T17:57:53.040168",
     "exception": false,
     "start_time": "2025-08-05T17:57:52.879353",
     "status": "completed"
    },
    "tags": []
   },
   "outputs": [
    {
     "name": "stdout",
     "output_type": "stream",
     "text": [
      "Prediction shape: (23205,)\n",
      "R² Score: 0.12641567805688414\n",
      "MAE: 36341883.399021946\n",
      "RMSE: 203206888.0446483\n"
     ]
    }
   ],
   "source": [
    "lr_model = LinearRegression()\n",
    "lr_model.fit(X_train, y_train)\n",
    "\n",
    "lr_pred = lr_model.predict(X_val_test)\n",
    "print(\"Prediction shape:\", lr_pred.shape)\n",
    "\n",
    "print(\"R² Score:\", r2_score(y_val_test, lr_pred))\n",
    "print(\"MAE:\", mean_absolute_error(y_val_test, lr_pred))\n",
    "print(\"RMSE:\", mean_squared_error(y_val_test, lr_pred, squared=False))"
   ]
  },
  {
   "cell_type": "markdown",
   "id": "06558cb5",
   "metadata": {
    "papermill": {
     "duration": 0.040849,
     "end_time": "2025-08-05T17:57:53.122693",
     "exception": false,
     "start_time": "2025-08-05T17:57:53.081844",
     "status": "completed"
    },
    "tags": []
   },
   "source": [
    "## 9.2. Random Forest"
   ]
  },
  {
   "cell_type": "code",
   "execution_count": 50,
   "id": "751e503d",
   "metadata": {
    "execution": {
     "iopub.execute_input": "2025-08-05T17:57:53.178371Z",
     "iopub.status.busy": "2025-08-05T17:57:53.177750Z",
     "iopub.status.idle": "2025-08-05T17:57:53.183162Z",
     "shell.execute_reply": "2025-08-05T17:57:53.182209Z"
    },
    "papermill": {
     "duration": 0.032594,
     "end_time": "2025-08-05T17:57:53.184531",
     "exception": false,
     "start_time": "2025-08-05T17:57:53.151937",
     "status": "completed"
    },
    "tags": []
   },
   "outputs": [],
   "source": [
    "rf_params = {\n",
    "    'n_estimators': [100,200],\n",
    "    'max_depth': [7, 10],\n",
    "    'min_samples_split': [2, 5],           \n",
    "    'min_samples_leaf': [1, 2],             \n",
    "    'max_features': ['sqrt', 'log2']            \n",
    "}\n",
    "\n",
    "rf = RandomForestRegressor(random_state=42)\n",
    "\n",
    "rf_grid = GridSearchCV(\n",
    "    estimator=rf,\n",
    "    param_grid=rf_params,\n",
    "    cv=3,\n",
    "    scoring='r2',\n",
    "    n_jobs=-1,\n",
    "    verbose=1\n",
    ")\n",
    "\n",
    "# rf_grid.fit(X_train, y_train)\n",
    "\n",
    "# best_rf = rf_grid.best_estimator_\n",
    "# rf_pred = best_rf.predict(X_val_test)\n",
    "\n",
    "# print(\"Best Parameters:\", rf_grid.best_params_)\n",
    "# print(\"R2 Score:\", r2_score(y_val_test, rf_pred))\n",
    "# print(\"MAE:\", mean_absolute_error(y_val_test, rf_pred))\n",
    "# print(\"RMSE:\", mean_squared_error(y_val_test, rf_pred, squared=False))"
   ]
  },
  {
   "cell_type": "code",
   "execution_count": 51,
   "id": "3995760c",
   "metadata": {
    "execution": {
     "iopub.execute_input": "2025-08-05T17:57:53.236314Z",
     "iopub.status.busy": "2025-08-05T17:57:53.235702Z",
     "iopub.status.idle": "2025-08-05T17:57:53.240577Z",
     "shell.execute_reply": "2025-08-05T17:57:53.239606Z"
    },
    "papermill": {
     "duration": 0.032179,
     "end_time": "2025-08-05T17:57:53.241790",
     "exception": false,
     "start_time": "2025-08-05T17:57:53.209611",
     "status": "completed"
    },
    "tags": []
   },
   "outputs": [
    {
     "name": "stdout",
     "output_type": "stream",
     "text": [
      "Fitting 3 folds for each of 32 candidates, totalling 96 fits\n",
      "Best Parameters: \n",
      "{\n",
      "    'max_depth': 10, \n",
      "    'max_features': 'sqrt', \n",
      "    'min_samples_leaf': 1, \n",
      "    'min_samples_split': 2, \n",
      "    'n_estimators': 200\n",
      "}\n",
      "\n",
      "R2 Score: 0.19156035824440332\n",
      "MAE: 27929239.41620483\n",
      "RMSE: 195483366.6309826\n"
     ]
    }
   ],
   "source": [
    "summary=\"\"\"Fitting 3 folds for each of 32 candidates, totalling 96 fits\n",
    "Best Parameters: \n",
    "{\n",
    "    'max_depth': 10, \n",
    "    'max_features': 'sqrt', \n",
    "    'min_samples_leaf': 1, \n",
    "    'min_samples_split': 2, \n",
    "    'n_estimators': 200\n",
    "}\n",
    "\n",
    "R2 Score: 0.19156035824440332\n",
    "MAE: 27929239.41620483\n",
    "RMSE: 195483366.6309826\"\"\"\n",
    "print(summary)"
   ]
  },
  {
   "cell_type": "markdown",
   "id": "ba9b2d2a",
   "metadata": {
    "papermill": {
     "duration": 0.025093,
     "end_time": "2025-08-05T17:57:53.292421",
     "exception": false,
     "start_time": "2025-08-05T17:57:53.267328",
     "status": "completed"
    },
    "tags": []
   },
   "source": [
    "## 9.3. Gradient Boost"
   ]
  },
  {
   "cell_type": "code",
   "execution_count": 52,
   "id": "e247932c",
   "metadata": {
    "execution": {
     "iopub.execute_input": "2025-08-05T17:57:53.345523Z",
     "iopub.status.busy": "2025-08-05T17:57:53.344868Z",
     "iopub.status.idle": "2025-08-05T17:57:53.350183Z",
     "shell.execute_reply": "2025-08-05T17:57:53.349439Z"
    },
    "papermill": {
     "duration": 0.032608,
     "end_time": "2025-08-05T17:57:53.351602",
     "exception": false,
     "start_time": "2025-08-05T17:57:53.318994",
     "status": "completed"
    },
    "tags": []
   },
   "outputs": [],
   "source": [
    "gb_params = {\n",
    "    'n_estimators': [100, 200],\n",
    "    'learning_rate': [0.05, 0.1],\n",
    "    'max_depth': [3, 7],\n",
    "    'subsample': [0.8, 1.0],\n",
    "    'min_samples_split': [2, 5],\n",
    "    'min_samples_leaf': [1, 3]\n",
    "}\n",
    "\n",
    "gb_model = GradientBoostingRegressor(random_state=42)\n",
    "\n",
    "grid_search = GridSearchCV(\n",
    "    estimator=gb_model,\n",
    "    param_grid=gb_params,\n",
    "    cv=3,\n",
    "    scoring='r2',\n",
    "    n_jobs=-1,\n",
    "    verbose=1\n",
    ")\n",
    "\n",
    "# grid_search.fit(X_train, y_train)\n",
    "\n",
    "# best_model = grid_search.best_estimator_\n",
    "\n",
    "# predictions = best_model.predict(X_val_test)\n",
    "\n",
    "# print(\"Best Parameters:\", grid_search.best_params_)\n",
    "# print(\"R2 Score:\", r2_score(y_val_test, predictions))\n",
    "# print(\"MAE:\", mean_absolute_error(y_val_test, predictions))\n",
    "# print(\"RMSE:\", mean_squared_error(y_val_test, predictions, squared=False))"
   ]
  },
  {
   "cell_type": "code",
   "execution_count": 53,
   "id": "cea08ad3",
   "metadata": {
    "execution": {
     "iopub.execute_input": "2025-08-05T17:57:53.403133Z",
     "iopub.status.busy": "2025-08-05T17:57:53.402797Z",
     "iopub.status.idle": "2025-08-05T17:57:53.407384Z",
     "shell.execute_reply": "2025-08-05T17:57:53.406502Z"
    },
    "papermill": {
     "duration": 0.031871,
     "end_time": "2025-08-05T17:57:53.408752",
     "exception": false,
     "start_time": "2025-08-05T17:57:53.376881",
     "status": "completed"
    },
    "tags": []
   },
   "outputs": [
    {
     "name": "stdout",
     "output_type": "stream",
     "text": [
      "Fitting 3 folds for each of 64 candidates, totalling 192 fits\n",
      "\n",
      "Best Parameters: \n",
      "{\n",
      "    'learning_rate': 0.05, \n",
      "    'max_depth': 3, \n",
      "    'min_samples_leaf': 1, \n",
      "    'min_samples_split': 5, \n",
      "    'n_estimators': 100, \n",
      "    'subsample': 1.0\n",
      "}\n",
      "\n",
      "R2 Score: -0.10330224658835263\n",
      "MAE: 30228808.63066102\n",
      "RMSE: 228366954.74748847\n"
     ]
    }
   ],
   "source": [
    "summary=\"\"\"Fitting 3 folds for each of 64 candidates, totalling 192 fits\n",
    "\n",
    "Best Parameters: \n",
    "{\n",
    "    'learning_rate': 0.05, \n",
    "    'max_depth': 3, \n",
    "    'min_samples_leaf': 1, \n",
    "    'min_samples_split': 5, \n",
    "    'n_estimators': 100, \n",
    "    'subsample': 1.0\n",
    "}\n",
    "\n",
    "R2 Score: -0.10330224658835263\n",
    "MAE: 30228808.63066102\n",
    "RMSE: 228366954.74748847\"\"\"\n",
    "print(summary)"
   ]
  },
  {
   "cell_type": "markdown",
   "id": "27d0c172",
   "metadata": {
    "papermill": {
     "duration": 0.025179,
     "end_time": "2025-08-05T17:57:53.459137",
     "exception": false,
     "start_time": "2025-08-05T17:57:53.433958",
     "status": "completed"
    },
    "tags": []
   },
   "source": [
    "# 10. Xgboost"
   ]
  },
  {
   "cell_type": "code",
   "execution_count": 54,
   "id": "d1677f60",
   "metadata": {
    "execution": {
     "iopub.execute_input": "2025-08-05T17:57:53.510688Z",
     "iopub.status.busy": "2025-08-05T17:57:53.510401Z",
     "iopub.status.idle": "2025-08-05T17:57:53.516301Z",
     "shell.execute_reply": "2025-08-05T17:57:53.515492Z"
    },
    "papermill": {
     "duration": 0.033616,
     "end_time": "2025-08-05T17:57:53.517798",
     "exception": false,
     "start_time": "2025-08-05T17:57:53.484182",
     "status": "completed"
    },
    "tags": []
   },
   "outputs": [],
   "source": [
    "xgb = XGBRegressor(objective='reg:squarederror', random_state=42)\n",
    "\n",
    "xgb_params = {\n",
    "    'n_estimators': [300, 400, 500],\n",
    "    'max_depth': [3, 5, 7, 9],\n",
    "    'learning_rate': [0.1, 0.2],\n",
    "    'subsample': [0.6, 0.7, 0.8, 1.0],\n",
    "    'colsample_bytree': [0.6, 0.8, 1.0],\n",
    "    'reg_alpha': [0, 0.5, 1, 1.5, 2],\n",
    "    'reg_lambda': [0, 0.5, 1, 1.5, 2]\n",
    "}\n",
    "\n",
    "xgb_random = RandomizedSearchCV(\n",
    "    estimator=xgb,\n",
    "    param_distributions=xgb_params,\n",
    "    n_iter=50,\n",
    "    scoring='neg_root_mean_squared_error',\n",
    "    cv=5,\n",
    "    verbose=1,\n",
    "    random_state=42,\n",
    "    n_jobs=-1\n",
    ")\n",
    "\n",
    "# xgb_random.fit(X_train_final, y)\n",
    "# best_xgb_model = xgb_random.best_estimator_\n",
    "\n",
    "# print(\"Best Model:\", xgb_random.best_params_)"
   ]
  },
  {
   "cell_type": "code",
   "execution_count": 55,
   "id": "e5153201",
   "metadata": {
    "execution": {
     "iopub.execute_input": "2025-08-05T17:57:53.570368Z",
     "iopub.status.busy": "2025-08-05T17:57:53.570069Z",
     "iopub.status.idle": "2025-08-05T17:57:53.574159Z",
     "shell.execute_reply": "2025-08-05T17:57:53.573373Z"
    },
    "papermill": {
     "duration": 0.032419,
     "end_time": "2025-08-05T17:57:53.575536",
     "exception": false,
     "start_time": "2025-08-05T17:57:53.543117",
     "status": "completed"
    },
    "tags": []
   },
   "outputs": [
    {
     "name": "stdout",
     "output_type": "stream",
     "text": [
      "Fitting 5 folds for each of 50 candidates, totalling 250 fits\n",
      "\n",
      "Best Model: \n",
      "{\n",
      "    'subsample': 0.8, \n",
      "    'reg_lambda': 2, \n",
      "    'reg_alpha': 1, \n",
      "    'n_estimators': 400, \n",
      "    'max_depth': 9, \n",
      "    'learning_rate': 0.2, \n",
      "    'colsample_bytree': 0.8\n",
      "}\n"
     ]
    }
   ],
   "source": [
    "summary=\"\"\"Fitting 5 folds for each of 50 candidates, totalling 250 fits\n",
    "\n",
    "Best Model: \n",
    "{\n",
    "    'subsample': 0.8, \n",
    "    'reg_lambda': 2, \n",
    "    'reg_alpha': 1, \n",
    "    'n_estimators': 400, \n",
    "    'max_depth': 9, \n",
    "    'learning_rate': 0.2, \n",
    "    'colsample_bytree': 0.8\n",
    "}\"\"\"\n",
    "print(summary)"
   ]
  },
  {
   "cell_type": "code",
   "execution_count": 56,
   "id": "aae85a98",
   "metadata": {
    "execution": {
     "iopub.execute_input": "2025-08-05T17:57:53.627276Z",
     "iopub.status.busy": "2025-08-05T17:57:53.626942Z",
     "iopub.status.idle": "2025-08-05T17:57:57.461291Z",
     "shell.execute_reply": "2025-08-05T17:57:57.460392Z"
    },
    "papermill": {
     "duration": 3.862068,
     "end_time": "2025-08-05T17:57:57.462761",
     "exception": false,
     "start_time": "2025-08-05T17:57:53.600693",
     "status": "completed"
    },
    "tags": []
   },
   "outputs": [
    {
     "data": {
      "text/html": [
       "<style>#sk-container-id-1 {color: black;background-color: white;}#sk-container-id-1 pre{padding: 0;}#sk-container-id-1 div.sk-toggleable {background-color: white;}#sk-container-id-1 label.sk-toggleable__label {cursor: pointer;display: block;width: 100%;margin-bottom: 0;padding: 0.3em;box-sizing: border-box;text-align: center;}#sk-container-id-1 label.sk-toggleable__label-arrow:before {content: \"▸\";float: left;margin-right: 0.25em;color: #696969;}#sk-container-id-1 label.sk-toggleable__label-arrow:hover:before {color: black;}#sk-container-id-1 div.sk-estimator:hover label.sk-toggleable__label-arrow:before {color: black;}#sk-container-id-1 div.sk-toggleable__content {max-height: 0;max-width: 0;overflow: hidden;text-align: left;background-color: #f0f8ff;}#sk-container-id-1 div.sk-toggleable__content pre {margin: 0.2em;color: black;border-radius: 0.25em;background-color: #f0f8ff;}#sk-container-id-1 input.sk-toggleable__control:checked~div.sk-toggleable__content {max-height: 200px;max-width: 100%;overflow: auto;}#sk-container-id-1 input.sk-toggleable__control:checked~label.sk-toggleable__label-arrow:before {content: \"▾\";}#sk-container-id-1 div.sk-estimator input.sk-toggleable__control:checked~label.sk-toggleable__label {background-color: #d4ebff;}#sk-container-id-1 div.sk-label input.sk-toggleable__control:checked~label.sk-toggleable__label {background-color: #d4ebff;}#sk-container-id-1 input.sk-hidden--visually {border: 0;clip: rect(1px 1px 1px 1px);clip: rect(1px, 1px, 1px, 1px);height: 1px;margin: -1px;overflow: hidden;padding: 0;position: absolute;width: 1px;}#sk-container-id-1 div.sk-estimator {font-family: monospace;background-color: #f0f8ff;border: 1px dotted black;border-radius: 0.25em;box-sizing: border-box;margin-bottom: 0.5em;}#sk-container-id-1 div.sk-estimator:hover {background-color: #d4ebff;}#sk-container-id-1 div.sk-parallel-item::after {content: \"\";width: 100%;border-bottom: 1px solid gray;flex-grow: 1;}#sk-container-id-1 div.sk-label:hover label.sk-toggleable__label {background-color: #d4ebff;}#sk-container-id-1 div.sk-serial::before {content: \"\";position: absolute;border-left: 1px solid gray;box-sizing: border-box;top: 0;bottom: 0;left: 50%;z-index: 0;}#sk-container-id-1 div.sk-serial {display: flex;flex-direction: column;align-items: center;background-color: white;padding-right: 0.2em;padding-left: 0.2em;position: relative;}#sk-container-id-1 div.sk-item {position: relative;z-index: 1;}#sk-container-id-1 div.sk-parallel {display: flex;align-items: stretch;justify-content: center;background-color: white;position: relative;}#sk-container-id-1 div.sk-item::before, #sk-container-id-1 div.sk-parallel-item::before {content: \"\";position: absolute;border-left: 1px solid gray;box-sizing: border-box;top: 0;bottom: 0;left: 50%;z-index: -1;}#sk-container-id-1 div.sk-parallel-item {display: flex;flex-direction: column;z-index: 1;position: relative;background-color: white;}#sk-container-id-1 div.sk-parallel-item:first-child::after {align-self: flex-end;width: 50%;}#sk-container-id-1 div.sk-parallel-item:last-child::after {align-self: flex-start;width: 50%;}#sk-container-id-1 div.sk-parallel-item:only-child::after {width: 0;}#sk-container-id-1 div.sk-dashed-wrapped {border: 1px dashed gray;margin: 0 0.4em 0.5em 0.4em;box-sizing: border-box;padding-bottom: 0.4em;background-color: white;}#sk-container-id-1 div.sk-label label {font-family: monospace;font-weight: bold;display: inline-block;line-height: 1.2em;}#sk-container-id-1 div.sk-label-container {text-align: center;}#sk-container-id-1 div.sk-container {/* jupyter's `normalize.less` sets `[hidden] { display: none; }` but bootstrap.min.css set `[hidden] { display: none !important; }` so we also need the `!important` here to be able to override the default hidden behavior on the sphinx rendered scikit-learn.org. See: https://github.com/scikit-learn/scikit-learn/issues/21755 */display: inline-block !important;position: relative;}#sk-container-id-1 div.sk-text-repr-fallback {display: none;}</style><div id=\"sk-container-id-1\" class=\"sk-top-container\"><div class=\"sk-text-repr-fallback\"><pre>XGBRegressor(base_score=None, booster=None, callbacks=None,\n",
       "             colsample_bylevel=None, colsample_bynode=None,\n",
       "             colsample_bytree=0.8, device=None, early_stopping_rounds=None,\n",
       "             enable_categorical=False, eval_metric=None, feature_types=None,\n",
       "             gamma=None, grow_policy=None, importance_type=None,\n",
       "             interaction_constraints=None, learning_rate=0.2, max_bin=None,\n",
       "             max_cat_threshold=None, max_cat_to_onehot=None,\n",
       "             max_delta_step=None, max_depth=9, max_leaves=None,\n",
       "             min_child_weight=None, missing=nan, monotone_constraints=None,\n",
       "             multi_strategy=None, n_estimators=400, n_jobs=None,\n",
       "             num_parallel_tree=None, random_state=42, ...)</pre><b>In a Jupyter environment, please rerun this cell to show the HTML representation or trust the notebook. <br />On GitHub, the HTML representation is unable to render, please try loading this page with nbviewer.org.</b></div><div class=\"sk-container\" hidden><div class=\"sk-item\"><div class=\"sk-estimator sk-toggleable\"><input class=\"sk-toggleable__control sk-hidden--visually\" id=\"sk-estimator-id-1\" type=\"checkbox\" checked><label for=\"sk-estimator-id-1\" class=\"sk-toggleable__label sk-toggleable__label-arrow\">XGBRegressor</label><div class=\"sk-toggleable__content\"><pre>XGBRegressor(base_score=None, booster=None, callbacks=None,\n",
       "             colsample_bylevel=None, colsample_bynode=None,\n",
       "             colsample_bytree=0.8, device=None, early_stopping_rounds=None,\n",
       "             enable_categorical=False, eval_metric=None, feature_types=None,\n",
       "             gamma=None, grow_policy=None, importance_type=None,\n",
       "             interaction_constraints=None, learning_rate=0.2, max_bin=None,\n",
       "             max_cat_threshold=None, max_cat_to_onehot=None,\n",
       "             max_delta_step=None, max_depth=9, max_leaves=None,\n",
       "             min_child_weight=None, missing=nan, monotone_constraints=None,\n",
       "             multi_strategy=None, n_estimators=400, n_jobs=None,\n",
       "             num_parallel_tree=None, random_state=42, ...)</pre></div></div></div></div></div>"
      ],
      "text/plain": [
       "XGBRegressor(base_score=None, booster=None, callbacks=None,\n",
       "             colsample_bylevel=None, colsample_bynode=None,\n",
       "             colsample_bytree=0.8, device=None, early_stopping_rounds=None,\n",
       "             enable_categorical=False, eval_metric=None, feature_types=None,\n",
       "             gamma=None, grow_policy=None, importance_type=None,\n",
       "             interaction_constraints=None, learning_rate=0.2, max_bin=None,\n",
       "             max_cat_threshold=None, max_cat_to_onehot=None,\n",
       "             max_delta_step=None, max_depth=9, max_leaves=None,\n",
       "             min_child_weight=None, missing=nan, monotone_constraints=None,\n",
       "             multi_strategy=None, n_estimators=400, n_jobs=None,\n",
       "             num_parallel_tree=None, random_state=42, ...)"
      ]
     },
     "execution_count": 56,
     "metadata": {},
     "output_type": "execute_result"
    }
   ],
   "source": [
    "best_xgb_model = XGBRegressor(\n",
    "    objective='reg:squarederror',\n",
    "    subsample=0.8,\n",
    "    reg_lambda=2,\n",
    "    reg_alpha=1,            \n",
    "    n_estimators=400,\n",
    "    max_depth=9,           \n",
    "    learning_rate=0.2,\n",
    "    colsample_bytree=0.8,\n",
    "    random_state=42\n",
    ")\n",
    "best_xgb_model.fit(X_engineered, y)"
   ]
  },
  {
   "cell_type": "markdown",
   "id": "bb863f80",
   "metadata": {
    "papermill": {
     "duration": 0.025826,
     "end_time": "2025-08-05T17:57:57.515992",
     "exception": false,
     "start_time": "2025-08-05T17:57:57.490166",
     "status": "completed"
    },
    "tags": []
   },
   "source": [
    "# 11. Final Prediction & Submission"
   ]
  },
  {
   "cell_type": "code",
   "execution_count": 57,
   "id": "fdc03ed6",
   "metadata": {
    "execution": {
     "iopub.execute_input": "2025-08-05T17:57:57.580625Z",
     "iopub.status.busy": "2025-08-05T17:57:57.580313Z",
     "iopub.status.idle": "2025-08-05T17:57:57.838929Z",
     "shell.execute_reply": "2025-08-05T17:57:57.837894Z"
    },
    "papermill": {
     "duration": 0.298958,
     "end_time": "2025-08-05T17:57:57.840428",
     "exception": false,
     "start_time": "2025-08-05T17:57:57.541470",
     "status": "completed"
    },
    "tags": []
   },
   "outputs": [
    {
     "name": "stdout",
     "output_type": "stream",
     "text": [
      "(29006,)\n"
     ]
    }
   ],
   "source": [
    "y_pred=best_xgb_model.predict(X_final_test_engineered)\n",
    "print(y_pred.shape)\n",
    "\n",
    "submission = pd.DataFrame({\"id\": range(0,Final_test.shape[0]), \"target\": y_pred})\n",
    "submission.to_csv('submission.csv',index=False)"
   ]
  }
 ],
 "metadata": {
  "kaggle": {
   "accelerator": "none",
   "dataSources": [
    {
     "databundleVersionId": 11895149,
     "sourceId": 99546,
     "sourceType": "competition"
    }
   ],
   "dockerImageVersionId": 31012,
   "isGpuEnabled": false,
   "isInternetEnabled": true,
   "language": "python",
   "sourceType": "notebook"
  },
  "kernelspec": {
   "display_name": "Python 3",
   "language": "python",
   "name": "python3"
  },
  "language_info": {
   "codemirror_mode": {
    "name": "ipython",
    "version": 3
   },
   "file_extension": ".py",
   "mimetype": "text/x-python",
   "name": "python",
   "nbconvert_exporter": "python",
   "pygments_lexer": "ipython3",
   "version": "3.11.11"
  },
  "papermill": {
   "default_parameters": {},
   "duration": 28.419116,
   "end_time": "2025-08-05T17:57:58.585587",
   "environment_variables": {},
   "exception": null,
   "input_path": "__notebook__.ipynb",
   "output_path": "__notebook__.ipynb",
   "parameters": {},
   "start_time": "2025-08-05T17:57:30.166471",
   "version": "2.6.0"
  }
 },
 "nbformat": 4,
 "nbformat_minor": 5
}
